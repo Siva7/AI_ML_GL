{
 "cells": [
  {
   "cell_type": "code",
   "execution_count": 1,
   "metadata": {},
   "outputs": [],
   "source": [
    "import numpy as np"
   ]
  },
  {
   "cell_type": "code",
   "execution_count": 3,
   "metadata": {},
   "outputs": [],
   "source": [
    "#np.save(\"nameoffile\",sample_array)\n",
    "#saved as npy\n",
    "\n",
    "#saving multiple arrays in zip archive\n",
    "#np.savez('2file',a=samp1,b=samp2)\n",
    "#saved as npz"
   ]
  },
  {
   "cell_type": "code",
   "execution_count": 4,
   "metadata": {},
   "outputs": [],
   "source": [
    "#load fiels\n",
    "#np.load('filename.npy')\n",
    "\n",
    "# x=np.load('2file')\n",
    "#x['a'],x['b']"
   ]
  },
  {
   "cell_type": "code",
   "execution_count": null,
   "metadata": {},
   "outputs": [],
   "source": [
    "#TEXTFILE\n",
    "#np.savetxt('a.txt',delimiter=\",\")\n",
    "#np.loadtxt('a.txt',delimiter=\",\")"
   ]
  }
 ],
 "metadata": {
  "kernelspec": {
   "display_name": "Python 3",
   "language": "python",
   "name": "python3"
  },
  "language_info": {
   "codemirror_mode": {
    "name": "ipython",
    "version": 3
   },
   "file_extension": ".py",
   "mimetype": "text/x-python",
   "name": "python",
   "nbconvert_exporter": "python",
   "pygments_lexer": "ipython3",
   "version": "3.7.4"
  }
 },
 "nbformat": 4,
 "nbformat_minor": 2
}
