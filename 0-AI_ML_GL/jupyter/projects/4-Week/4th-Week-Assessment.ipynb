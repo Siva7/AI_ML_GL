{
 "cells": [
  {
   "cell_type": "code",
   "execution_count": 176,
   "metadata": {},
   "outputs": [],
   "source": [
    "import numpy as np\n",
    "import pandas as pd\n",
    "\n",
    "import matplotlib.pyplot as plt\n",
    "%matplotlib inline\n",
    "\n",
    "import seaborn as sns\n",
    "\n",
    "from scipy.stats import zscore\n",
    "from sklearn.decomposition import PCA\n",
    "from sklearn.model_selection import train_test_split\n",
    "from sklearn.cluster import KMeans\n",
    "from sklearn.svm import SVC\n",
    "from sklearn import metrics\n",
    "\n",
    "from scipy.spatial.distance import cdist"
   ]
  },
  {
   "cell_type": "markdown",
   "metadata": {},
   "source": [
    "# 1. Understand Features and Target Variable"
   ]
  },
  {
   "cell_type": "markdown",
   "metadata": {},
   "source": [
    "<font color='green'> \n",
    "****\n",
    "Since the data doesnt have header we add them manually   \n",
    "****\n",
    "</font>"
   ]
  },
  {
   "cell_type": "code",
   "execution_count": 2,
   "metadata": {},
   "outputs": [
    {
     "data": {
      "text/html": [
       "<div>\n",
       "<style scoped>\n",
       "    .dataframe tbody tr th:only-of-type {\n",
       "        vertical-align: middle;\n",
       "    }\n",
       "\n",
       "    .dataframe tbody tr th {\n",
       "        vertical-align: top;\n",
       "    }\n",
       "\n",
       "    .dataframe thead th {\n",
       "        text-align: right;\n",
       "    }\n",
       "</style>\n",
       "<table border=\"1\" class=\"dataframe\">\n",
       "  <thead>\n",
       "    <tr style=\"text-align: right;\">\n",
       "      <th></th>\n",
       "      <th>IR</th>\n",
       "      <th>MR</th>\n",
       "      <th>FF</th>\n",
       "      <th>CR</th>\n",
       "      <th>CO</th>\n",
       "      <th>OP</th>\n",
       "      <th>CLASS</th>\n",
       "    </tr>\n",
       "  </thead>\n",
       "  <tbody>\n",
       "    <tr>\n",
       "      <td>0</td>\n",
       "      <td>P</td>\n",
       "      <td>P</td>\n",
       "      <td>A</td>\n",
       "      <td>A</td>\n",
       "      <td>A</td>\n",
       "      <td>P</td>\n",
       "      <td>NB</td>\n",
       "    </tr>\n",
       "    <tr>\n",
       "      <td>1</td>\n",
       "      <td>N</td>\n",
       "      <td>N</td>\n",
       "      <td>A</td>\n",
       "      <td>A</td>\n",
       "      <td>A</td>\n",
       "      <td>N</td>\n",
       "      <td>NB</td>\n",
       "    </tr>\n",
       "    <tr>\n",
       "      <td>2</td>\n",
       "      <td>A</td>\n",
       "      <td>A</td>\n",
       "      <td>A</td>\n",
       "      <td>A</td>\n",
       "      <td>A</td>\n",
       "      <td>A</td>\n",
       "      <td>NB</td>\n",
       "    </tr>\n",
       "    <tr>\n",
       "      <td>3</td>\n",
       "      <td>P</td>\n",
       "      <td>P</td>\n",
       "      <td>P</td>\n",
       "      <td>P</td>\n",
       "      <td>P</td>\n",
       "      <td>P</td>\n",
       "      <td>NB</td>\n",
       "    </tr>\n",
       "    <tr>\n",
       "      <td>4</td>\n",
       "      <td>N</td>\n",
       "      <td>N</td>\n",
       "      <td>P</td>\n",
       "      <td>P</td>\n",
       "      <td>P</td>\n",
       "      <td>N</td>\n",
       "      <td>NB</td>\n",
       "    </tr>\n",
       "  </tbody>\n",
       "</table>\n",
       "</div>"
      ],
      "text/plain": [
       "  IR MR FF CR CO OP CLASS\n",
       "0  P  P  A  A  A  P    NB\n",
       "1  N  N  A  A  A  N    NB\n",
       "2  A  A  A  A  A  A    NB\n",
       "3  P  P  P  P  P  P    NB\n",
       "4  N  N  P  P  P  N    NB"
      ]
     },
     "execution_count": 2,
     "metadata": {},
     "output_type": "execute_result"
    }
   ],
   "source": [
    "data_header=['IR','MR','FF','CR','CO','OP','CLASS']\n",
    "bank_df = pd.read_csv('Qualitative_Bankruptcy.data.txt',names=data_header)\n",
    "bank_df.head()"
   ]
  },
  {
   "cell_type": "code",
   "execution_count": 3,
   "metadata": {},
   "outputs": [
    {
     "data": {
      "text/plain": [
       "(250, 7)"
      ]
     },
     "execution_count": 3,
     "metadata": {},
     "output_type": "execute_result"
    }
   ],
   "source": [
    "bank_df.shape"
   ]
  },
  {
   "cell_type": "code",
   "execution_count": 4,
   "metadata": {},
   "outputs": [
    {
     "name": "stdout",
     "output_type": "stream",
     "text": [
      "<class 'pandas.core.frame.DataFrame'>\n",
      "RangeIndex: 250 entries, 0 to 249\n",
      "Data columns (total 7 columns):\n",
      "IR       250 non-null object\n",
      "MR       250 non-null object\n",
      "FF       250 non-null object\n",
      "CR       250 non-null object\n",
      "CO       250 non-null object\n",
      "OP       250 non-null object\n",
      "CLASS    250 non-null object\n",
      "dtypes: object(7)\n",
      "memory usage: 13.8+ KB\n"
     ]
    }
   ],
   "source": [
    "bank_df.info()"
   ]
  },
  {
   "cell_type": "code",
   "execution_count": 5,
   "metadata": {},
   "outputs": [
    {
     "data": {
      "text/html": [
       "<div>\n",
       "<style scoped>\n",
       "    .dataframe tbody tr th:only-of-type {\n",
       "        vertical-align: middle;\n",
       "    }\n",
       "\n",
       "    .dataframe tbody tr th {\n",
       "        vertical-align: top;\n",
       "    }\n",
       "\n",
       "    .dataframe thead th {\n",
       "        text-align: right;\n",
       "    }\n",
       "</style>\n",
       "<table border=\"1\" class=\"dataframe\">\n",
       "  <thead>\n",
       "    <tr style=\"text-align: right;\">\n",
       "      <th></th>\n",
       "      <th>IR</th>\n",
       "      <th>MR</th>\n",
       "      <th>FF</th>\n",
       "      <th>CR</th>\n",
       "      <th>CO</th>\n",
       "      <th>OP</th>\n",
       "      <th>CLASS</th>\n",
       "    </tr>\n",
       "  </thead>\n",
       "  <tbody>\n",
       "    <tr>\n",
       "      <td>count</td>\n",
       "      <td>250</td>\n",
       "      <td>250</td>\n",
       "      <td>250</td>\n",
       "      <td>250</td>\n",
       "      <td>250</td>\n",
       "      <td>250</td>\n",
       "      <td>250</td>\n",
       "    </tr>\n",
       "    <tr>\n",
       "      <td>unique</td>\n",
       "      <td>3</td>\n",
       "      <td>3</td>\n",
       "      <td>3</td>\n",
       "      <td>3</td>\n",
       "      <td>3</td>\n",
       "      <td>3</td>\n",
       "      <td>2</td>\n",
       "    </tr>\n",
       "    <tr>\n",
       "      <td>top</td>\n",
       "      <td>N</td>\n",
       "      <td>N</td>\n",
       "      <td>N</td>\n",
       "      <td>N</td>\n",
       "      <td>N</td>\n",
       "      <td>N</td>\n",
       "      <td>NB</td>\n",
       "    </tr>\n",
       "    <tr>\n",
       "      <td>freq</td>\n",
       "      <td>89</td>\n",
       "      <td>119</td>\n",
       "      <td>119</td>\n",
       "      <td>94</td>\n",
       "      <td>103</td>\n",
       "      <td>114</td>\n",
       "      <td>143</td>\n",
       "    </tr>\n",
       "  </tbody>\n",
       "</table>\n",
       "</div>"
      ],
      "text/plain": [
       "         IR   MR   FF   CR   CO   OP CLASS\n",
       "count   250  250  250  250  250  250   250\n",
       "unique    3    3    3    3    3    3     2\n",
       "top       N    N    N    N    N    N    NB\n",
       "freq     89  119  119   94  103  114   143"
      ]
     },
     "execution_count": 5,
     "metadata": {},
     "output_type": "execute_result"
    }
   ],
   "source": [
    "bank_df.describe()"
   ]
  },
  {
   "cell_type": "markdown",
   "metadata": {},
   "source": [
    "<font color='green'> \n",
    "****\n",
    "#### Inference\n",
    "As the data is in catagorical form we can see top and freq in the Describe output \n",
    "    \n",
    "****\n",
    "</font>"
   ]
  },
  {
   "cell_type": "code",
   "execution_count": 6,
   "metadata": {},
   "outputs": [
    {
     "data": {
      "image/png": "[encoded data removed]",
      "text/plain": [
       "<Figure size 432x288 with 1 Axes>"
      ]
     },
     "metadata": {
      "needs_background": "light"
     },
     "output_type": "display_data"
    },
    {
     "data": {
      "image/png": "[encoded data removed]",
      "text/plain": [
       "<Figure size 432x288 with 1 Axes>"
      ]
     },
     "metadata": {
      "needs_background": "light"
     },
     "output_type": "display_data"
    },
    {
     "data": {
      "image/png": "[encoded data removed]",
      "text/plain": [
       "<Figure size 432x288 with 1 Axes>"
      ]
     },
     "metadata": {
      "needs_background": "light"
     },
     "output_type": "display_data"
    },
    {
     "data": {
      "image/png": "[encoded data removed]",
      "text/plain": [
       "<Figure size 432x288 with 1 Axes>"
      ]
     },
     "metadata": {
      "needs_background": "light"
     },
     "output_type": "display_data"
    },
    {
     "data": {
      "image/png": "[encoded data removed]",
      "text/plain": [
       "<Figure size 432x288 with 1 Axes>"
      ]
     },
     "metadata": {
      "needs_background": "light"
     },
     "output_type": "display_data"
    },
    {
     "data": {
      "image/png": "[encoded data removed]",
      "text/plain": [
       "<Figure size 432x288 with 1 Axes>"
      ]
     },
     "metadata": {
      "needs_background": "light"
     },
     "output_type": "display_data"
    },
    {
     "data": {
      "image/png": "[encoded data removed]",
      "text/plain": [
       "<Figure size 432x288 with 1 Axes>"
      ]
     },
     "metadata": {
      "needs_background": "light"
     },
     "output_type": "display_data"
    }
   ],
   "source": [
    "for column in bank_df.columns:\n",
    "    sns.countplot(bank_df[column])\n",
    "    plt.show()"
   ]
  },
  {
   "cell_type": "markdown",
   "metadata": {},
   "source": [
    "<font color='green'> \n",
    "****\n",
    "The above graphs shows that data has no other values than the once expected (P,A,N,NB,B)\n",
    "****\n",
    "</font>"
   ]
  },
  {
   "cell_type": "code",
   "execution_count": 7,
   "metadata": {},
   "outputs": [
    {
     "data": {
      "text/plain": [
       "0"
      ]
     },
     "execution_count": 7,
     "metadata": {},
     "output_type": "execute_result"
    }
   ],
   "source": [
    "sum(bank_df[bank_df.isnull()].count() > 0) "
   ]
  },
  {
   "cell_type": "markdown",
   "metadata": {},
   "source": [
    "<font color='green'> \n",
    "****\n",
    "Ther are no nulls in the data as we can see from the above check\n",
    "****\n",
    "</font>"
   ]
  },
  {
   "cell_type": "markdown",
   "metadata": {},
   "source": [
    "<font color='green'> \n",
    "****\n",
    "#### Inference\n",
    "1. There are no null values\n",
    "2. The target variable **NB** has relatively equal spread of target values.Hence we will not upsample or downsample.\n",
    "3. All values are valid entries, no invalid entries in data.\n",
    "4. All the columns are catagorical in nature and hence should be converted to numbers\n",
    "    \n",
    "****\n",
    "</font>"
   ]
  },
  {
   "cell_type": "markdown",
   "metadata": {},
   "source": [
    "# 2.  Encode independent Variable"
   ]
  },
  {
   "cell_type": "markdown",
   "metadata": {},
   "source": [
    "<font color='green'> \n",
    "****\n",
    "Since all the independent fileds have P,A,N as the values. Let us encode the values to numeric manually\n",
    "    so that the encoding is consistant in all the columns.\n",
    "    \n",
    "Similarly we will encode the dependent column as well\n",
    "    \n",
    "****\n",
    "</font>"
   ]
  },
  {
   "cell_type": "code",
   "execution_count": 8,
   "metadata": {},
   "outputs": [],
   "source": [
    "indepedent_var_encoder = {'P':1,'A':2,'N':3}"
   ]
  },
  {
   "cell_type": "code",
   "execution_count": 9,
   "metadata": {},
   "outputs": [
    {
     "data": {
      "text/html": [
       "<div>\n",
       "<style scoped>\n",
       "    .dataframe tbody tr th:only-of-type {\n",
       "        vertical-align: middle;\n",
       "    }\n",
       "\n",
       "    .dataframe tbody tr th {\n",
       "        vertical-align: top;\n",
       "    }\n",
       "\n",
       "    .dataframe thead th {\n",
       "        text-align: right;\n",
       "    }\n",
       "</style>\n",
       "<table border=\"1\" class=\"dataframe\">\n",
       "  <thead>\n",
       "    <tr style=\"text-align: right;\">\n",
       "      <th></th>\n",
       "      <th>IR</th>\n",
       "      <th>MR</th>\n",
       "      <th>FF</th>\n",
       "      <th>CR</th>\n",
       "      <th>CO</th>\n",
       "      <th>OP</th>\n",
       "    </tr>\n",
       "  </thead>\n",
       "  <tbody>\n",
       "    <tr>\n",
       "      <td>0</td>\n",
       "      <td>1</td>\n",
       "      <td>1</td>\n",
       "      <td>2</td>\n",
       "      <td>2</td>\n",
       "      <td>2</td>\n",
       "      <td>1</td>\n",
       "    </tr>\n",
       "    <tr>\n",
       "      <td>1</td>\n",
       "      <td>3</td>\n",
       "      <td>3</td>\n",
       "      <td>2</td>\n",
       "      <td>2</td>\n",
       "      <td>2</td>\n",
       "      <td>3</td>\n",
       "    </tr>\n",
       "    <tr>\n",
       "      <td>2</td>\n",
       "      <td>2</td>\n",
       "      <td>2</td>\n",
       "      <td>2</td>\n",
       "      <td>2</td>\n",
       "      <td>2</td>\n",
       "      <td>2</td>\n",
       "    </tr>\n",
       "    <tr>\n",
       "      <td>3</td>\n",
       "      <td>1</td>\n",
       "      <td>1</td>\n",
       "      <td>1</td>\n",
       "      <td>1</td>\n",
       "      <td>1</td>\n",
       "      <td>1</td>\n",
       "    </tr>\n",
       "    <tr>\n",
       "      <td>4</td>\n",
       "      <td>3</td>\n",
       "      <td>3</td>\n",
       "      <td>1</td>\n",
       "      <td>1</td>\n",
       "      <td>1</td>\n",
       "      <td>3</td>\n",
       "    </tr>\n",
       "  </tbody>\n",
       "</table>\n",
       "</div>"
      ],
      "text/plain": [
       "   IR  MR  FF  CR  CO  OP\n",
       "0   1   1   2   2   2   1\n",
       "1   3   3   2   2   2   3\n",
       "2   2   2   2   2   2   2\n",
       "3   1   1   1   1   1   1\n",
       "4   3   3   1   1   1   3"
      ]
     },
     "execution_count": 9,
     "metadata": {},
     "output_type": "execute_result"
    }
   ],
   "source": [
    "independent_vars = bank_df.loc[:,bank_df.columns != 'CLASS']\n",
    "independent_encoded = independent_vars.copy()\n",
    "for column in independent_vars.columns:\n",
    "    independent_encoded[column] = independent_vars[column].apply(func=lambda x:indepedent_var_encoder[x])\n",
    "independent_encoded.head()"
   ]
  },
  {
   "cell_type": "code",
   "execution_count": 10,
   "metadata": {},
   "outputs": [],
   "source": [
    "dependent_var_encoder = {'NB':0,'B':1}"
   ]
  },
  {
   "cell_type": "markdown",
   "metadata": {},
   "source": [
    "# 3. Encode Seperate Dependent Variable"
   ]
  },
  {
   "cell_type": "code",
   "execution_count": 11,
   "metadata": {},
   "outputs": [
    {
     "data": {
      "text/plain": [
       "0    0\n",
       "1    0\n",
       "2    0\n",
       "3    0\n",
       "4    0\n",
       "Name: CLASS, dtype: int64"
      ]
     },
     "execution_count": 11,
     "metadata": {},
     "output_type": "execute_result"
    }
   ],
   "source": [
    "y=bank_df['CLASS'].apply(func=lambda x:dependent_var_encoder[x])\n",
    "y.head()"
   ]
  },
  {
   "cell_type": "code",
   "execution_count": 12,
   "metadata": {},
   "outputs": [
    {
     "data": {
      "image/png": "[encoded data removed]",
      "text/plain": [
       "<Figure size 432x288 with 1 Axes>"
      ]
     },
     "metadata": {
      "needs_background": "light"
     },
     "output_type": "display_data"
    },
    {
     "data": {
      "image/png": "[encoded data removed]",
      "text/plain": [
       "<Figure size 432x288 with 1 Axes>"
      ]
     },
     "metadata": {
      "needs_background": "light"
     },
     "output_type": "display_data"
    },
    {
     "data": {
      "image/png": "[encoded data removed]",
      "text/plain": [
       "<Figure size 432x288 with 1 Axes>"
      ]
     },
     "metadata": {
      "needs_background": "light"
     },
     "output_type": "display_data"
    },
    {
     "data": {
      "image/png": "[encoded data removed]",
      "text/plain": [
       "<Figure size 432x288 with 1 Axes>"
      ]
     },
     "metadata": {
      "needs_background": "light"
     },
     "output_type": "display_data"
    },
    {
     "data": {
      "image/png": "[encoded data removed]",
      "text/plain": [
       "<Figure size 432x288 with 1 Axes>"
      ]
     },
     "metadata": {
      "needs_background": "light"
     },
     "output_type": "display_data"
    },
    {
     "data": {
      "image/png": "[encoded data removed]",
      "text/plain": [
       "<Figure size 432x288 with 1 Axes>"
      ]
     },
     "metadata": {
      "needs_background": "light"
     },
     "output_type": "display_data"
    }
   ],
   "source": [
    "for column in independent_encoded.columns:\n",
    "    sns.countplot(independent_encoded[column])\n",
    "    plt.show()"
   ]
  },
  {
   "cell_type": "markdown",
   "metadata": {},
   "source": [
    "<font color='green'> \n",
    "****\n",
    "The above graphs show that all the values are encoded as expected. As you can see all\n",
    "the counts are spread over 1,2 and 3\n",
    "****\n",
    "</font>"
   ]
  },
  {
   "cell_type": "code",
   "execution_count": 13,
   "metadata": {
    "scrolled": true
   },
   "outputs": [
    {
     "name": "stderr",
     "output_type": "stream",
     "text": [
      "D:\\IT\\Apps\\Anaconda\\lib\\site-packages\\statsmodels\\nonparametric\\kde.py:487: RuntimeWarning: invalid value encountered in true_divide\n",
      "  binned = fast_linbin(X, a, b, gridsize) / (delta * nobs)\n",
      "D:\\IT\\Apps\\Anaconda\\lib\\site-packages\\statsmodels\\nonparametric\\kdetools.py:34: RuntimeWarning: invalid value encountered in double_scalars\n",
      "  FAC1 = 2*(np.pi*bw/RANGE)**2\n"
     ]
    },
    {
     "data": {
      "text/plain": [
       "<seaborn.axisgrid.PairGrid at 0x1e1d4d8a208>"
      ]
     },
     "execution_count": 13,
     "metadata": {},
     "output_type": "execute_result"
    },
    {
     "data": {
      "image/png": "[encoded data removed]",
      "text/plain": [
       "<Figure size 1302.38x1260 with 56 Axes>"
      ]
     },
     "metadata": {
      "needs_background": "light"
     },
     "output_type": "display_data"
    }
   ],
   "source": [
    "sns.pairplot(independent_encoded.join(y),diag_kind='kde',hue='CLASS')"
   ]
  },
  {
   "cell_type": "markdown",
   "metadata": {},
   "source": [
    "<font color='green'> \n",
    "****\n",
    "#### Inference\n",
    "1. As the input shows all the variable are catgorical in nature \n",
    "2. The distribubtion of data indicates distinctive clusters     \n",
    "\n",
    "****\n",
    "</font>"
   ]
  },
  {
   "cell_type": "markdown",
   "metadata": {},
   "source": [
    "# 4. Test Train Split"
   ]
  },
  {
   "cell_type": "code",
   "execution_count": 14,
   "metadata": {},
   "outputs": [],
   "source": [
    "X = independent_encoded\n",
    "test_size = 0.20\n",
    "seed=1\n",
    "X_train,X_test,y_train,y_test = train_test_split(X,y,test_size = test_size,random_state=seed)"
   ]
  },
  {
   "cell_type": "code",
   "execution_count": 15,
   "metadata": {},
   "outputs": [
    {
     "name": "stdout",
     "output_type": "stream",
     "text": [
      "Shapes of test and train data\n",
      "X_train =(200, 6)\n",
      "X_test =(50, 6)\n",
      "y_train =(200,)\n",
      "y_test =(50,)\n"
     ]
    },
    {
     "data": {
      "text/html": [
       "<div>\n",
       "<style scoped>\n",
       "    .dataframe tbody tr th:only-of-type {\n",
       "        vertical-align: middle;\n",
       "    }\n",
       "\n",
       "    .dataframe tbody tr th {\n",
       "        vertical-align: top;\n",
       "    }\n",
       "\n",
       "    .dataframe thead th {\n",
       "        text-align: right;\n",
       "    }\n",
       "</style>\n",
       "<table border=\"1\" class=\"dataframe\">\n",
       "  <thead>\n",
       "    <tr style=\"text-align: right;\">\n",
       "      <th></th>\n",
       "      <th>IR</th>\n",
       "      <th>MR</th>\n",
       "      <th>FF</th>\n",
       "      <th>CR</th>\n",
       "      <th>CO</th>\n",
       "      <th>OP</th>\n",
       "    </tr>\n",
       "  </thead>\n",
       "  <tbody>\n",
       "    <tr>\n",
       "      <td>0</td>\n",
       "      <td>1</td>\n",
       "      <td>1</td>\n",
       "      <td>2</td>\n",
       "      <td>2</td>\n",
       "      <td>2</td>\n",
       "      <td>1</td>\n",
       "    </tr>\n",
       "    <tr>\n",
       "      <td>1</td>\n",
       "      <td>3</td>\n",
       "      <td>3</td>\n",
       "      <td>2</td>\n",
       "      <td>2</td>\n",
       "      <td>2</td>\n",
       "      <td>3</td>\n",
       "    </tr>\n",
       "    <tr>\n",
       "      <td>2</td>\n",
       "      <td>2</td>\n",
       "      <td>2</td>\n",
       "      <td>2</td>\n",
       "      <td>2</td>\n",
       "      <td>2</td>\n",
       "      <td>2</td>\n",
       "    </tr>\n",
       "    <tr>\n",
       "      <td>3</td>\n",
       "      <td>1</td>\n",
       "      <td>1</td>\n",
       "      <td>1</td>\n",
       "      <td>1</td>\n",
       "      <td>1</td>\n",
       "      <td>1</td>\n",
       "    </tr>\n",
       "    <tr>\n",
       "      <td>4</td>\n",
       "      <td>3</td>\n",
       "      <td>3</td>\n",
       "      <td>1</td>\n",
       "      <td>1</td>\n",
       "      <td>1</td>\n",
       "      <td>3</td>\n",
       "    </tr>\n",
       "  </tbody>\n",
       "</table>\n",
       "</div>"
      ],
      "text/plain": [
       "   IR  MR  FF  CR  CO  OP\n",
       "0   1   1   2   2   2   1\n",
       "1   3   3   2   2   2   3\n",
       "2   2   2   2   2   2   2\n",
       "3   1   1   1   1   1   1\n",
       "4   3   3   1   1   1   3"
      ]
     },
     "execution_count": 15,
     "metadata": {},
     "output_type": "execute_result"
    }
   ],
   "source": [
    "print(\"Shapes of test and train data\")\n",
    "print(\"X_train =\"+str(X_train.shape))\n",
    "print(\"X_test =\"+str(X_test.shape))\n",
    "print(\"y_train =\"+str(y_train.shape))\n",
    "print(\"y_test =\"+str(y_test.shape))\n",
    "X.head()"
   ]
  },
  {
   "cell_type": "markdown",
   "metadata": {},
   "source": [
    "## Normalizing Train data"
   ]
  },
  {
   "cell_type": "code",
   "execution_count": 16,
   "metadata": {},
   "outputs": [
    {
     "data": {
      "text/html": [
       "<div>\n",
       "<style scoped>\n",
       "    .dataframe tbody tr th:only-of-type {\n",
       "        vertical-align: middle;\n",
       "    }\n",
       "\n",
       "    .dataframe tbody tr th {\n",
       "        vertical-align: top;\n",
       "    }\n",
       "\n",
       "    .dataframe thead th {\n",
       "        text-align: right;\n",
       "    }\n",
       "</style>\n",
       "<table border=\"1\" class=\"dataframe\">\n",
       "  <thead>\n",
       "    <tr style=\"text-align: right;\">\n",
       "      <th></th>\n",
       "      <th>IR</th>\n",
       "      <th>MR</th>\n",
       "      <th>FF</th>\n",
       "      <th>CR</th>\n",
       "      <th>CO</th>\n",
       "      <th>OP</th>\n",
       "    </tr>\n",
       "  </thead>\n",
       "  <tbody>\n",
       "    <tr>\n",
       "      <td>228</td>\n",
       "      <td>-0.080575</td>\n",
       "      <td>-0.292683</td>\n",
       "      <td>0.949894</td>\n",
       "      <td>1.134591</td>\n",
       "      <td>1.071972</td>\n",
       "      <td>1.029125</td>\n",
       "    </tr>\n",
       "    <tr>\n",
       "      <td>85</td>\n",
       "      <td>-0.080575</td>\n",
       "      <td>0.926829</td>\n",
       "      <td>0.949894</td>\n",
       "      <td>1.134591</td>\n",
       "      <td>-1.221016</td>\n",
       "      <td>-1.283516</td>\n",
       "    </tr>\n",
       "    <tr>\n",
       "      <td>112</td>\n",
       "      <td>1.159034</td>\n",
       "      <td>0.926829</td>\n",
       "      <td>-1.517363</td>\n",
       "      <td>-1.279432</td>\n",
       "      <td>-1.221016</td>\n",
       "      <td>1.029125</td>\n",
       "    </tr>\n",
       "    <tr>\n",
       "      <td>148</td>\n",
       "      <td>1.159034</td>\n",
       "      <td>0.926829</td>\n",
       "      <td>0.949894</td>\n",
       "      <td>-0.072421</td>\n",
       "      <td>1.071972</td>\n",
       "      <td>-0.127195</td>\n",
       "    </tr>\n",
       "    <tr>\n",
       "      <td>171</td>\n",
       "      <td>-0.080575</td>\n",
       "      <td>-1.512195</td>\n",
       "      <td>0.949894</td>\n",
       "      <td>1.134591</td>\n",
       "      <td>1.071972</td>\n",
       "      <td>1.029125</td>\n",
       "    </tr>\n",
       "  </tbody>\n",
       "</table>\n",
       "</div>"
      ],
      "text/plain": [
       "           IR        MR        FF        CR        CO        OP\n",
       "228 -0.080575 -0.292683  0.949894  1.134591  1.071972  1.029125\n",
       "85  -0.080575  0.926829  0.949894  1.134591 -1.221016 -1.283516\n",
       "112  1.159034  0.926829 -1.517363 -1.279432 -1.221016  1.029125\n",
       "148  1.159034  0.926829  0.949894 -0.072421  1.071972 -0.127195\n",
       "171 -0.080575 -1.512195  0.949894  1.134591  1.071972  1.029125"
      ]
     },
     "execution_count": 16,
     "metadata": {},
     "output_type": "execute_result"
    }
   ],
   "source": [
    "X_train_z=X_train.apply(zscore)\n",
    "X_train_z.head()"
   ]
  },
  {
   "cell_type": "markdown",
   "metadata": {},
   "source": [
    "# 4. Apply PCA on the independent features of train data"
   ]
  },
  {
   "cell_type": "markdown",
   "metadata": {},
   "source": [
    "#### Using Sklearn library for PCA"
   ]
  },
  {
   "cell_type": "code",
   "execution_count": 17,
   "metadata": {},
   "outputs": [
    {
     "data": {
      "text/plain": [
       "PCA(copy=True, iterated_power='auto', n_components=None, random_state=None,\n",
       "    svd_solver='auto', tol=0.0, whiten=False)"
      ]
     },
     "execution_count": 17,
     "metadata": {},
     "output_type": "execute_result"
    }
   ],
   "source": [
    "pca_model = PCA()\n",
    "pca_model.fit(X_train_z)"
   ]
  },
  {
   "cell_type": "markdown",
   "metadata": {},
   "source": [
    "### Eigen Values"
   ]
  },
  {
   "cell_type": "markdown",
   "metadata": {},
   "source": [
    "#### Also called as teh variance along the access\n",
    "The sum of the variances would be close to 6 as we have used 6 features which are standardized"
   ]
  },
  {
   "cell_type": "code",
   "execution_count": 18,
   "metadata": {},
   "outputs": [
    {
     "data": {
      "text/plain": [
       "array([2.63310162, 1.10348142, 0.90979463, 0.74348799, 0.40535645,\n",
       "       0.23492863])"
      ]
     },
     "execution_count": 18,
     "metadata": {},
     "output_type": "execute_result"
    }
   ],
   "source": [
    "pca_model.explained_variance_"
   ]
  },
  {
   "cell_type": "code",
   "execution_count": 19,
   "metadata": {},
   "outputs": [
    {
     "data": {
      "text/plain": [
       "6.030150753768844"
      ]
     },
     "execution_count": 19,
     "metadata": {},
     "output_type": "execute_result"
    }
   ],
   "source": [
    "sum(pca_model.explained_variance_)"
   ]
  },
  {
   "cell_type": "markdown",
   "metadata": {},
   "source": [
    "#### Normalised Variance\n",
    "This should sum up to 1 as it is normalised"
   ]
  },
  {
   "cell_type": "code",
   "execution_count": 20,
   "metadata": {},
   "outputs": [
    {
     "data": {
      "text/plain": [
       "array([0.43665602, 0.182994  , 0.15087428, 0.12329509, 0.06722161,\n",
       "       0.038959  ])"
      ]
     },
     "execution_count": 20,
     "metadata": {},
     "output_type": "execute_result"
    }
   ],
   "source": [
    "pca_model.explained_variance_ratio_"
   ]
  },
  {
   "cell_type": "code",
   "execution_count": 21,
   "metadata": {},
   "outputs": [
    {
     "data": {
      "text/plain": [
       "1.0"
      ]
     },
     "execution_count": 21,
     "metadata": {},
     "output_type": "execute_result"
    }
   ],
   "source": [
    "sum(pca_model.explained_variance_ratio_)"
   ]
  },
  {
   "cell_type": "markdown",
   "metadata": {},
   "source": [
    "#### Eigen Vectors"
   ]
  },
  {
   "cell_type": "code",
   "execution_count": 22,
   "metadata": {},
   "outputs": [
    {
     "data": {
      "text/plain": [
       "array([[-0.2659426 , -0.33347355, -0.48174247, -0.48459943, -0.54086354,\n",
       "        -0.24212421],\n",
       "       [ 0.59062087,  0.40429833, -0.33348871, -0.27748678, -0.21861727,\n",
       "         0.50169981],\n",
       "       [ 0.56170369,  0.07162781,  0.20576748, -0.33298399,  0.11530248,\n",
       "        -0.71613209],\n",
       "       [ 0.38014816, -0.83579648,  0.12074163, -0.10097427,  0.16670313,\n",
       "         0.32305934],\n",
       "       [-0.25501963,  0.12628462,  0.68920856, -0.59347521, -0.15194525,\n",
       "         0.26212317],\n",
       "       [ 0.2353356 , -0.07552579,  0.35324529,  0.46354882, -0.77168722,\n",
       "        -0.06125443]])"
      ]
     },
     "execution_count": 22,
     "metadata": {},
     "output_type": "execute_result"
    }
   ],
   "source": [
    "eigen_vectors=pca_model.components_\n",
    "eigen_vectors"
   ]
  },
  {
   "cell_type": "markdown",
   "metadata": {},
   "source": [
    "<font color='green'> \n",
    "****\n",
    "Below we will try to find the cummilative variance over each principle component\n",
    "****\n",
    "</font>"
   ]
  },
  {
   "cell_type": "code",
   "execution_count": 23,
   "metadata": {},
   "outputs": [
    {
     "data": {
      "text/plain": [
       "[0.4366560189074698,\n",
       " 0.6196500218851464,\n",
       " 0.7705242976073249,\n",
       " 0.8938193900295707,\n",
       " 0.961041002117166,\n",
       " 1.0]"
      ]
     },
     "execution_count": 23,
     "metadata": {},
     "output_type": "execute_result"
    }
   ],
   "source": [
    "import itertools \n",
    "import operator\n",
    "\n",
    "cummilatie_variance=list(itertools.accumulate(pca_model.explained_variance_ratio_,operator.add))\n",
    "\n",
    "cummilatie_variance"
   ]
  },
  {
   "cell_type": "code",
   "execution_count": 27,
   "metadata": {},
   "outputs": [
    {
     "data": {
      "image/png": "[encoded data removed]",
      "text/plain": [
       "<Figure size 432x288 with 1 Axes>"
      ]
     },
     "metadata": {
      "needs_background": "light"
     },
     "output_type": "display_data"
    }
   ],
   "source": [
    "plt.bar(range(1,7), pca_model.explained_variance_ratio_, alpha=0.5, align='center', label='individual explained variance')\n",
    "plt.step(range(1,7),cummilatie_variance, where= 'mid', label='cumulative explained variance')\n",
    "plt.step(range(1,7),np.repeat([0.95],6), where= 'mid', label='95% variance line')\n",
    "plt.ylabel('Explained variance ratio')\n",
    "plt.xlabel('Principal components')\n",
    "plt.legend(loc = 'best')\n",
    "plt.show()\n"
   ]
  },
  {
   "cell_type": "code",
   "execution_count": 33,
   "metadata": {},
   "outputs": [
    {
     "data": {
      "image/png": "[encoded data removed]",
      "text/plain": [
       "<Figure size 432x288 with 1 Axes>"
      ]
     },
     "metadata": {
      "needs_background": "light"
     },
     "output_type": "display_data"
    }
   ],
   "source": [
    "plt.plot(range(1,7), pca_model.explained_variance_ratio_)\n",
    "plt.ylabel('individual explained variance')\n",
    "plt.xlabel('Principal components')\n",
    "plt.xticks([1,2,3,4,5,6],['PCA1','PCA2','PCA3','PCA4','PCA5','PCA6']);"
   ]
  },
  {
   "cell_type": "markdown",
   "metadata": {},
   "source": [
    "<font color='green'> \n",
    "****\n",
    "#### Inference\n",
    "1. Almost 80% of the variance is captured by the first 3 principle components\n",
    "    \n",
    "2. AS the plot shows the 95% line cuts the cummilative variance rations at **Five Principle Components**.\n",
    "\n",
    "3. As a result we will discard the last Priciple Component and take rest 5 into our models\n",
    "    \n",
    "****\n",
    "</font>"
   ]
  },
  {
   "cell_type": "markdown",
   "metadata": {},
   "source": [
    "# 7 . Transform Data using Optimum PCA"
   ]
  },
  {
   "cell_type": "code",
   "execution_count": 34,
   "metadata": {},
   "outputs": [
    {
     "data": {
      "text/plain": [
       "PCA(copy=True, iterated_power='auto', n_components=5, random_state=None,\n",
       "    svd_solver='auto', tol=0.0, whiten=False)"
      ]
     },
     "execution_count": 34,
     "metadata": {},
     "output_type": "execute_result"
    }
   ],
   "source": [
    "opt_PCA_model = PCA(n_components=5)\n",
    "opt_PCA_model.fit(X_train_z)"
   ]
  },
  {
   "cell_type": "markdown",
   "metadata": {},
   "source": [
    "<font color='green'> \n",
    "****\n",
    "\n",
    "Optimum PCA mode Eigen Value (Variances)\n",
    "    \n",
    "****\n",
    "</font>"
   ]
  },
  {
   "cell_type": "code",
   "execution_count": 35,
   "metadata": {},
   "outputs": [
    {
     "data": {
      "text/plain": [
       "array([2.63310162, 1.10348142, 0.90979463, 0.74348799, 0.40535645])"
      ]
     },
     "execution_count": 35,
     "metadata": {},
     "output_type": "execute_result"
    }
   ],
   "source": [
    "opt_PCA_model.explained_variance_"
   ]
  },
  {
   "cell_type": "markdown",
   "metadata": {},
   "source": [
    "<font color='green'> \n",
    "****\n",
    "\n",
    "Cummilative Varience Ratio for optimal PCA model   \n",
    "****\n",
    "</font>"
   ]
  },
  {
   "cell_type": "code",
   "execution_count": 36,
   "metadata": {},
   "outputs": [
    {
     "data": {
      "text/plain": [
       "array([0.43665602, 0.182994  , 0.15087428, 0.12329509, 0.06722161])"
      ]
     },
     "execution_count": 36,
     "metadata": {},
     "output_type": "execute_result"
    }
   ],
   "source": [
    "opt_PCA_model.explained_variance_ratio_"
   ]
  },
  {
   "cell_type": "markdown",
   "metadata": {},
   "source": [
    "<font color='green'> \n",
    "****\n",
    "\n",
    "Eigen Vectors for optimal PCA model    \n",
    "****\n",
    "</font>"
   ]
  },
  {
   "cell_type": "code",
   "execution_count": 37,
   "metadata": {},
   "outputs": [
    {
     "data": {
      "text/plain": [
       "array([[-0.2659426 , -0.33347355, -0.48174247, -0.48459943, -0.54086354,\n",
       "        -0.24212421],\n",
       "       [ 0.59062087,  0.40429833, -0.33348871, -0.27748678, -0.21861727,\n",
       "         0.50169981],\n",
       "       [ 0.56170369,  0.07162781,  0.20576748, -0.33298399,  0.11530248,\n",
       "        -0.71613209],\n",
       "       [ 0.38014816, -0.83579648,  0.12074163, -0.10097427,  0.16670313,\n",
       "         0.32305934],\n",
       "       [-0.25501963,  0.12628462,  0.68920856, -0.59347521, -0.15194525,\n",
       "         0.26212317]])"
      ]
     },
     "execution_count": 37,
     "metadata": {},
     "output_type": "execute_result"
    }
   ],
   "source": [
    "opt_PCA_model.components_"
   ]
  },
  {
   "cell_type": "markdown",
   "metadata": {},
   "source": [
    "<font color='green'> \n",
    "****\n",
    "\n",
    "Transforming the data using the PCA model   \n",
    "****\n",
    "</font>"
   ]
  },
  {
   "cell_type": "code",
   "execution_count": 43,
   "metadata": {},
   "outputs": [
    {
     "data": {
      "text/plain": [
       "array([[-1.71736269e+00, -5.15572629e-01, -8.61955144e-01,\n",
       "         7.25289972e-01,  7.17866423e-02],\n",
       "       [-3.23897482e-01, -6.81490572e-01,  6.17165028e-01,\n",
       "        -1.42334269e+00, -3.19958203e-02],\n",
       "       [ 1.14490760e+00,  2.70356120e+00, -4.65489077e-02,\n",
       "        -2.59133838e-01, -9.71501068e-03],\n",
       "       [-1.58881226e+00,  4.64416713e-01,  1.15168224e+00,\n",
       "        -7.44221615e-02,  3.22900697e-01],\n",
       "       [-1.31068762e+00, -1.00861937e+00, -9.49306127e-01,\n",
       "         1.74455397e+00, -8.22189940e-02],\n",
       "       [ 1.99832547e+00, -1.65339200e+00, -1.05754739e-01,\n",
       "         1.16877223e-01, -1.57778320e-01],\n",
       "       [ 2.55743662e+00, -1.15770470e+00,  1.74513802e-01,\n",
       "         2.80928234e-01, -4.65878413e-01],\n",
       "       [ 2.36418344e+00,  7.90322286e-02,  2.17022133e-01,\n",
       "        -1.94872396e+00,  1.63372117e-02],\n",
       "       [-3.43004955e-02,  1.95723046e+00, -1.94623815e-01,\n",
       "        -2.32060663e-01,  1.24180730e-01],\n",
       "       [ 9.82012487e-01,  1.51919227e-01, -1.50189277e-01,\n",
       "        -5.75917198e-02, -1.67987953e-02],\n",
       "       [-1.58881226e+00,  4.64416713e-01,  1.15168224e+00,\n",
       "        -7.44221615e-02,  3.22900697e-01],\n",
       "       [-2.17372929e+00,  1.29487018e-01,  7.49766776e-01,\n",
       "        -1.96299259e-01, -3.93430636e-01],\n",
       "       [-1.38769795e+00, -1.24771133e+00, -1.55824785e+00,\n",
       "         2.54055056e-01,  3.87911155e-01],\n",
       "       [-2.12403775e+00, -2.25258883e-02, -7.74604161e-01,\n",
       "        -2.93974031e-01,  2.25792279e-01],\n",
       "       [ 2.28792246e+00,  9.85329026e-01, -9.17543582e-01,\n",
       "         1.30815925e+00, -1.60177037e-03],\n",
       "       [-2.45370248e+00,  7.09612809e-01, -7.83114531e-02,\n",
       "         1.77260885e-01, -9.03322343e-02],\n",
       "       [ 7.02039299e-01,  7.32045018e-01, -9.78267506e-01,\n",
       "         3.15968424e-01,  2.86299606e-01],\n",
       "       [-1.71736269e+00, -5.15572629e-01, -8.61955144e-01,\n",
       "         7.25289972e-01,  7.17866423e-02],\n",
       "       [ 1.80423706e+00,  1.23928381e+00, -1.43913432e+00,\n",
       "        -1.20160367e+00,  6.22534015e-01],\n",
       "       [ 1.04107807e+00,  7.63776796e-02, -2.33031623e+00,\n",
       "        -4.26093862e-01, -9.64134287e-01],\n",
       "       [ 1.56692952e+00,  4.86848922e-01,  2.51726183e-01,\n",
       "         6.42853775e-02,  6.99532538e-01],\n",
       "       [-2.12403775e+00, -2.25258883e-02, -7.74604161e-01,\n",
       "        -2.93974031e-01,  2.25792279e-01],\n",
       "       [-1.79437302e+00, -7.54664585e-01, -1.47089687e+00,\n",
       "        -7.65208947e-01,  5.41916792e-01],\n",
       "       [-1.85941142e+00,  1.12101386e+00, -3.32152006e-01,\n",
       "         2.83106122e-02, -9.40559308e-01],\n",
       "       [-7.23922046e-01,  2.19220617e-01,  2.38167593e+00,\n",
       "        -3.26105208e-01,  7.36133629e-01],\n",
       "       [ 1.42488079e+00,  2.12343541e+00,  7.81529321e-01,\n",
       "        -6.32693982e-01, -3.12813412e-01],\n",
       "       [ 1.42488079e+00,  2.12343541e+00,  7.81529321e-01,\n",
       "        -6.32693982e-01, -3.12813412e-01],\n",
       "       [-1.58881226e+00,  4.64416713e-01,  1.15168224e+00,\n",
       "        -7.44221615e-02,  3.22900697e-01],\n",
       "       [-1.28386842e+00,  1.37947220e+00,  7.25519468e-01,\n",
       "         4.21015080e-01,  1.34233043e+00],\n",
       "       [-2.17372929e+00,  1.29487018e-01,  7.49766776e-01,\n",
       "        -1.96299259e-01, -3.93430636e-01],\n",
       "       [ 1.84690270e+00, -9.32768683e-02,  1.07980441e+00,\n",
       "        -3.09274766e-01,  3.96434136e-01],\n",
       "       [-6.94804119e-02,  2.04151670e+00,  3.39485280e-01,\n",
       "         8.09406207e-02,  6.66307711e-01],\n",
       "       [-1.84406456e+00, -6.02651679e-01,  5.34740675e-02,\n",
       "        -6.67534175e-01, -7.73061231e-02],\n",
       "       [ 9.46832570e-01,  2.36205473e-01,  3.83919818e-01,\n",
       "         2.55409564e-01,  5.25328186e-01],\n",
       "       [ 2.84786883e+00, -1.74922555e-01,  7.38612876e-01,\n",
       "         5.61038964e-01, -6.07798574e-01],\n",
       "       [-1.10772477e+00, -1.82783712e+00, -7.30169624e-01,\n",
       "        -1.19505088e-01,  8.48127535e-02],\n",
       "       [ 1.25261164e+00, -5.04677922e-01,  1.33364497e+00,\n",
       "        -1.60324494e-01,  1.24666121e+00],\n",
       "       [ 1.63348082e+00, -8.36967058e-01,  1.12464706e+00,\n",
       "         9.01113423e-01,  6.82241475e-02],\n",
       "       [ 1.04856379e+00, -1.17189675e+00,  7.22731604e-01,\n",
       "         7.79236325e-01, -6.48107186e-01],\n",
       "       [ 5.75337425e-01,  6.44965968e-01, -6.28382941e-02,\n",
       "        -1.07685572e+00,  1.37206841e-01],\n",
       "       [ 1.57630355e+00,  5.63320281e-01, -4.04029830e-01,\n",
       "        -2.06541993e-01, -8.67025869e-01],\n",
       "       [-1.64035236e+00, -2.76480672e-01, -2.53013419e-01,\n",
       "         2.21578889e+00, -3.98343507e-01],\n",
       "       [ 2.18594147e+00, -7.48944207e-01, -2.72244310e-01,\n",
       "        -1.05133705e+00, -8.53999758e-01],\n",
       "       [-6.94804119e-02,  2.04151670e+00,  3.39485280e-01,\n",
       "         8.09406207e-02,  6.66307711e-01],\n",
       "       [ 8.89655302e-01,  1.63649281e+00, -1.14475708e+00,\n",
       "        -8.52245851e-01, -4.09921831e-01],\n",
       "       [ 5.24810654e-01,  2.45291775e+00,  8.56447266e-02,\n",
       "        -6.80096520e-02, -1.83919363e-01],\n",
       "       [ 2.16122058e+00,  8.98249976e-01, -2.11436989e-03,\n",
       "        -8.46648952e-02, -1.50694536e-01],\n",
       "       [-1.30883908e+00, -1.15709078e-01,  1.97976047e+00,\n",
       "        -4.47982305e-01,  1.98022954e-02],\n",
       "       [ 1.03918976e+00, -1.24836811e+00,  1.37848762e+00,\n",
       "         1.05006370e+00,  9.18451221e-01],\n",
       "       [ 2.61019547e-01, -3.46560876e-01,  1.01908049e+00,\n",
       "        -1.30146559e+00,  6.84335513e-01],\n",
       "       [-2.17372929e+00,  1.29487018e-01,  7.49766776e-01,\n",
       "        -1.96299259e-01, -3.93430636e-01],\n",
       "       [ 1.04107807e+00,  7.63776796e-02, -2.33031623e+00,\n",
       "        -4.26093862e-01, -9.64134287e-01],\n",
       "       [ 1.61662106e+00,  3.34836016e-01, -1.27264475e+00,\n",
       "        -3.33893947e-02,  1.31875545e+00],\n",
       "       [-1.15741631e+00, -1.67582421e+00,  7.94201314e-01,\n",
       "        -2.18303160e-02, -5.34410161e-01],\n",
       "       [ 2.58324250e+00, -1.31846231e+00,  2.96160721e-01,\n",
       "         2.38754320e-01,  5.58553013e-01],\n",
       "       [-1.30883908e+00, -1.15709078e-01,  1.97976047e+00,\n",
       "        -4.47982305e-01,  1.98022954e-02],\n",
       "       [ 9.72638450e-01,  7.54478690e-02,  5.05566737e-01,\n",
       "         2.13235650e-01,  1.54975961e+00],\n",
       "       [-1.86878545e+00,  1.04454250e+00,  3.23604007e-01,\n",
       "         2.99137982e-01,  6.25999099e-01],\n",
       "       [ 2.58324250e+00, -1.31846231e+00,  2.96160721e-01,\n",
       "         2.38754320e-01,  5.58553013e-01],\n",
       "       [-2.17372929e+00,  1.29487018e-01,  7.49766776e-01,\n",
       "        -1.96299259e-01, -3.93430636e-01],\n",
       "       [-6.94804119e-02,  2.04151670e+00,  3.39485280e-01,\n",
       "         8.09406207e-02,  6.66307711e-01],\n",
       "       [ 1.37822852e+00, -1.90403545e+00,  2.64388952e-02,\n",
       "         3.08001409e-01, -3.31982673e-01],\n",
       "       [-2.45370248e+00,  7.09612809e-01, -7.83114531e-02,\n",
       "         1.77260885e-01, -9.03322343e-02],\n",
       "       [ 1.61662106e+00,  3.34836016e-01, -1.27264475e+00,\n",
       "        -3.33893947e-02,  1.31875545e+00],\n",
       "       [ 2.84786883e+00, -1.74922555e-01,  7.38612876e-01,\n",
       "         5.61038964e-01, -6.07798574e-01],\n",
       "       [-2.12403775e+00, -2.25258883e-02, -7.74604161e-01,\n",
       "        -2.93974031e-01,  2.25792279e-01],\n",
       "       [ 1.63348082e+00, -8.36967058e-01,  1.12464706e+00,\n",
       "         9.01113423e-01,  6.82241475e-02],\n",
       "       [-1.86878545e+00,  1.04454250e+00,  3.23604007e-01,\n",
       "         2.99137982e-01,  6.25999099e-01],\n",
       "       [ 1.04107807e+00,  7.63776796e-02, -2.33031623e+00,\n",
       "        -4.26093862e-01, -9.64134287e-01],\n",
       "       [-1.79437302e+00, -7.54664585e-01, -1.47089687e+00,\n",
       "        -7.65208947e-01,  5.41916792e-01],\n",
       "       [ 5.50616533e-01,  2.29216015e+00,  2.07291646e-01,\n",
       "        -1.10183565e-01,  8.40512063e-01],\n",
       "       [-9.81022893e-01, -1.74075807e+00, -1.64559884e+00,\n",
       "         1.27331906e+00,  2.33905519e-01],\n",
       "       [-2.12403775e+00, -2.25258883e-02, -7.74604161e-01,\n",
       "        -2.93974031e-01,  2.25792279e-01],\n",
       "       [-1.84406456e+00, -6.02651679e-01,  5.34740675e-02,\n",
       "        -6.67534175e-01, -7.73061231e-02],\n",
       "       [-2.17372929e+00,  1.29487018e-01,  7.49766776e-01,\n",
       "        -1.96299259e-01, -3.93430636e-01],\n",
       "       [-2.17372929e+00,  1.29487018e-01,  7.49766776e-01,\n",
       "        -1.96299259e-01, -3.93430636e-01],\n",
       "       [-7.25770596e-01, -6.73689674e-01, -5.47390667e-01,\n",
       "         1.86643107e+00,  6.34112339e-01],\n",
       "       [-2.17372929e+00,  1.29487018e-01,  7.49766776e-01,\n",
       "        -1.96299259e-01, -3.93430636e-01],\n",
       "       [ 1.63348082e+00, -8.36967058e-01,  1.12464706e+00,\n",
       "         9.01113423e-01,  6.82241475e-02],\n",
       "       [-3.43004955e-02,  1.95723046e+00, -1.94623815e-01,\n",
       "        -2.32060663e-01,  1.24180730e-01],\n",
       "       [-1.38769795e+00, -1.24771133e+00, -1.55824785e+00,\n",
       "         2.54055056e-01,  3.87911155e-01],\n",
       "       [-1.23442664e+00, -1.91491617e+00,  1.85259588e-01,\n",
       "        -1.51232923e+00, -6.42800119e-02],\n",
       "       [-6.01063751e-02,  2.11798806e+00, -3.16270734e-01,\n",
       "        -1.89886749e-01, -9.00250696e-01],\n",
       "       [-2.12403775e+00, -2.25258883e-02, -7.74604161e-01,\n",
       "        -2.93974031e-01,  2.25792279e-01],\n",
       "       [-1.71736269e+00, -5.15572629e-01, -8.61955144e-01,\n",
       "         7.25289972e-01,  7.17866423e-02],\n",
       "       [ 1.70485398e+00,  1.54330962e+00,  1.60960755e+00,\n",
       "        -1.00625413e+00, -6.15911814e-01],\n",
       "       [-1.64035236e+00, -2.76480672e-01, -2.53013419e-01,\n",
       "         2.21578889e+00, -3.98343507e-01],\n",
       "       [ 1.03918976e+00, -1.24836811e+00,  1.37848762e+00,\n",
       "         1.05006370e+00,  9.18451221e-01],\n",
       "       [ 1.65331388e+00,  8.02412237e-01,  2.04911895e-01,\n",
       "         1.28395693e+00, -1.33715602e+00],\n",
       "       [-1.30883908e+00, -1.15709078e-01,  1.97976047e+00,\n",
       "        -4.47982305e-01,  1.98022954e-02],\n",
       "       [-2.45370248e+00,  7.09612809e-01, -7.83114531e-02,\n",
       "         1.77260885e-01, -9.03322343e-02],\n",
       "       [-1.84406456e+00, -6.02651679e-01,  5.34740675e-02,\n",
       "        -6.67534175e-01, -7.73061231e-02],\n",
       "       [-1.38769795e+00, -1.24771133e+00, -1.55824785e+00,\n",
       "         2.54055056e-01,  3.87911155e-01],\n",
       "       [ 2.02329612e+00, -1.58210724e-01, -1.35999574e+00,\n",
       "         9.85874608e-01,  1.16474982e+00],\n",
       "       [-1.86878545e+00,  1.04454250e+00,  3.23604007e-01,\n",
       "         2.99137982e-01,  6.25999099e-01],\n",
       "       [-1.48708104e+00, -9.43685513e-01,  1.49049402e+00,\n",
       "         4.49404600e-01, -8.50534674e-01],\n",
       "       [-1.89375610e+00, -4.50638773e-01,  1.57784500e+00,\n",
       "        -5.69859403e-01, -6.96529038e-01],\n",
       "       [ 3.61915541e-01, -9.87242218e-02, -1.79956426e-02,\n",
       "         1.33532466e-01, -1.91003148e-01],\n",
       "       [-2.45370248e+00,  7.09612809e-01, -7.83114531e-02,\n",
       "         1.77260885e-01, -9.03322343e-02],\n",
       "       [ 2.58324250e+00, -1.31846231e+00,  2.96160721e-01,\n",
       "         2.38754320e-01,  5.58553013e-01],\n",
       "       [-1.85941142e+00,  1.12101386e+00, -3.32152006e-01,\n",
       "         2.83106122e-02, -9.40559308e-01],\n",
       "       [-1.64035236e+00, -2.76480672e-01, -2.53013419e-01,\n",
       "         2.21578889e+00, -3.98343507e-01],\n",
       "       [ 1.63348082e+00, -8.36967058e-01,  1.12464706e+00,\n",
       "         9.01113423e-01,  6.82241475e-02],\n",
       "       [ 2.16122058e+00,  8.98249976e-01, -2.11436989e-03,\n",
       "        -8.46648952e-02, -1.50694536e-01],\n",
       "       [ 1.25261164e+00, -5.04677922e-01,  1.33364497e+00,\n",
       "        -1.60324494e-01,  1.24666121e+00],\n",
       "       [-1.30883908e+00, -1.15709078e-01,  1.97976047e+00,\n",
       "        -4.47982305e-01,  1.98022954e-02],\n",
       "       [ 2.21091213e+00,  7.46237070e-01, -1.52648531e+00,\n",
       "        -1.82339667e-01,  4.68528379e-01],\n",
       "       [ 6.41888730e-01, -6.78850013e-01,  8.10082586e-01,\n",
       "        -2.40027677e-01, -4.94101549e-01],\n",
       "       [ 5.65963388e-01,  5.68494609e-01,  5.92917719e-01,\n",
       "        -8.06028353e-01,  1.70376525e+00],\n",
       "       [-1.89375610e+00, -4.50638773e-01,  1.57784500e+00,\n",
       "        -5.69859403e-01, -6.96529038e-01],\n",
       "       [-2.00386294e-02, -1.25287166e+00, -2.00774600e-01,\n",
       "        -1.85240369e+00, -7.40302733e-01],\n",
       "       [-1.84406456e+00, -6.02651679e-01,  5.34740675e-02,\n",
       "        -6.67534175e-01, -7.73061231e-02],\n",
       "       [-2.45370248e+00,  7.09612809e-01, -7.83114531e-02,\n",
       "         1.77260885e-01, -9.03322343e-02],\n",
       "       [ 2.55743662e+00, -1.15770470e+00,  1.74513802e-01,\n",
       "         2.80928234e-01, -4.65878413e-01],\n",
       "       [-1.10772477e+00, -1.82783712e+00, -7.30169624e-01,\n",
       "        -1.19505088e-01,  8.48127535e-02],\n",
       "       [ 1.15916947e+00, -5.06540916e-01, -5.26996925e-02,\n",
       "        -1.87947687e+00, -8.74198474e-01],\n",
       "       [ 2.36418344e+00,  7.90322286e-02,  2.17022133e-01,\n",
       "        -1.94872396e+00,  1.63372117e-02],\n",
       "       [-1.48708104e+00, -9.43685513e-01,  1.49049402e+00,\n",
       "         4.49404600e-01, -8.50534674e-01],\n",
       "       [ 1.00673338e+00, -1.49527496e+00, -4.20319217e-01,\n",
       "        -1.02426388e+00, -7.20104017e-01],\n",
       "       [-7.25770596e-01, -6.73689674e-01, -5.47390667e-01,\n",
       "         1.86643107e+00,  6.34112339e-01],\n",
       "       [-1.79437302e+00, -7.54664585e-01, -1.47089687e+00,\n",
       "        -7.65208947e-01,  5.41916792e-01],\n",
       "       [-2.12403775e+00, -2.25258883e-02, -7.74604161e-01,\n",
       "        -2.93974031e-01,  2.25792279e-01],\n",
       "       [ 1.43837909e+00, -4.93140419e-01, -1.76191120e+00,\n",
       "         8.63997511e-01,  4.48418483e-01],\n",
       "       [ 5.24810654e-01,  2.45291775e+00,  8.56447266e-02,\n",
       "        -6.80096520e-02, -1.83919363e-01],\n",
       "       [ 1.54112364e+00,  6.47606527e-01,  1.30079264e-01,\n",
       "         1.06459291e-01, -3.24898888e-01],\n",
       "       [ 5.59990570e-01,  2.36863151e+00, -4.48464368e-01,\n",
       "        -3.81010935e-01, -7.26046344e-01],\n",
       "       [ 1.99832547e+00, -1.65339200e+00, -1.05754739e-01,\n",
       "         1.16877223e-01, -1.57778320e-01],\n",
       "       [-2.45370248e+00,  7.09612809e-01, -7.83114531e-02,\n",
       "         1.77260885e-01, -9.03322343e-02],\n",
       "       [ 1.31167722e+00, -5.80219470e-01, -8.46481985e-01,\n",
       "        -5.28826636e-01,  2.99325718e-01],\n",
       "       [-1.85941142e+00,  1.12101386e+00, -3.32152006e-01,\n",
       "         2.83106122e-02, -9.40559308e-01],\n",
       "       [-8.94302883e-01, -1.08414693e+00, -7.75012275e-01,\n",
       "        -1.32989328e+00,  4.13022742e-01],\n",
       "       [ 4.93202292e-03,  2.42309612e-01, -1.45501560e+00,\n",
       "        -9.83406309e-01,  5.82225403e-01],\n",
       "       [ 3.17753356e+00, -9.07061252e-01,  4.23201679e-02,\n",
       "         8.98040477e-02, -2.91674061e-01],\n",
       "       [-2.45370248e+00,  7.09612809e-01, -7.83114531e-02,\n",
       "         1.77260885e-01, -9.03322343e-02],\n",
       "       [ 8.95628120e-01, -1.63644087e-01, -1.03374989e-01,\n",
       "        -1.27726327e+00,  2.01988976e+00],\n",
       "       [-6.94804119e-02,  2.04151670e+00,  3.39485280e-01,\n",
       "         8.09406207e-02,  6.66307711e-01],\n",
       "       [ 1.55158266e+00,  2.21051446e+00, -1.33899890e-01,\n",
       "         7.60130165e-01, -1.63720647e-01],\n",
       "       [-1.48708104e+00, -9.43685513e-01,  1.49049402e+00,\n",
       "         4.49404600e-01, -8.50534674e-01],\n",
       "       [-6.54397441e-01,  1.70658701e+00, -6.24301804e-02,\n",
       "        -4.09364766e-02, -5.00236225e-02],\n",
       "       [ 1.31167722e+00, -5.80219470e-01, -8.46481985e-01,\n",
       "        -5.28826636e-01,  2.99325718e-01],\n",
       "       [ 2.95364236e-01,  1.22509176e+00, -8.90916523e-01,\n",
       "        -7.03295579e-01,  4.40305243e-01],\n",
       "       [ 1.58952684e-01,  7.20493525e-01, -2.37132146e-01,\n",
       "         1.99759153e+00, -3.58034895e-01],\n",
       "       [ 1.03918976e+00, -1.24836811e+00,  1.37848762e+00,\n",
       "         1.05006370e+00,  9.18451221e-01],\n",
       "       [ 1.70300543e+00,  6.50399331e-01, -1.31945904e+00,\n",
       "         1.18628215e+00, -7.17933104e-01],\n",
       "       [ 1.57630355e+00,  5.63320281e-01, -4.04029830e-01,\n",
       "        -2.06541993e-01, -8.67025869e-01],\n",
       "       [ 3.17753356e+00, -9.07061252e-01,  4.23201679e-02,\n",
       "         8.98040477e-02, -2.91674061e-01],\n",
       "       [-2.12403775e+00, -2.25258883e-02, -7.74604161e-01,\n",
       "        -2.93974031e-01,  2.25792279e-01],\n",
       "       [ 2.26295180e+00, -5.09852250e-01,  3.36697416e-01,\n",
       "         4.39161866e-01, -1.32412991e+00],\n",
       "       [-1.89375610e+00, -4.50638773e-01,  1.57784500e+00,\n",
       "        -5.69859403e-01, -6.96529038e-01],\n",
       "       [-1.58881226e+00,  4.64416713e-01,  1.15168224e+00,\n",
       "        -7.44221615e-02,  3.22900697e-01],\n",
       "       [ 1.54112364e+00,  6.47606527e-01,  1.30079264e-01,\n",
       "         1.06459291e-01, -3.24898888e-01],\n",
       "       [-1.64035236e+00, -2.76480672e-01, -2.53013419e-01,\n",
       "         2.21578889e+00, -3.98343507e-01],\n",
       "       [ 1.80423706e+00,  1.23928381e+00, -1.43913432e+00,\n",
       "        -1.20160367e+00,  6.22534015e-01],\n",
       "       [-1.89375610e+00, -4.50638773e-01,  1.57784500e+00,\n",
       "        -5.69859403e-01, -6.96529038e-01],\n",
       "       [-6.01063751e-02,  2.11798806e+00, -3.16270734e-01,\n",
       "        -1.89886749e-01, -9.00250696e-01],\n",
       "       [-2.04702742e+00,  2.16566068e-01, -1.65662436e-01,\n",
       "         1.19652489e+00, -2.44337871e-01],\n",
       "       [ 1.97251959e+00, -1.49263440e+00, -2.27401658e-01,\n",
       "         1.59051137e-01, -1.18220975e+00],\n",
       "       [-1.71736269e+00, -5.15572629e-01, -8.61955144e-01,\n",
       "         7.25289972e-01,  7.17866423e-02],\n",
       "       [ 1.96314555e+00, -1.56910575e+00,  4.28354355e-01,\n",
       "         4.29878507e-01,  3.84348660e-01],\n",
       "       [-1.71736269e+00, -5.15572629e-01, -8.61955144e-01,\n",
       "         7.25289972e-01,  7.17866423e-02],\n",
       "       [ 1.56692952e+00,  4.86848922e-01,  2.51726183e-01,\n",
       "         6.42853775e-02,  6.99532538e-01],\n",
       "       [ 9.56206607e-01,  3.12676832e-01, -2.71836196e-01,\n",
       "        -1.54178064e-02, -1.04123022e+00],\n",
       "       [-6.54397441e-01,  1.70658701e+00, -6.24301804e-02,\n",
       "        -4.09364766e-02, -5.00236225e-02],\n",
       "       [ 1.04856379e+00, -1.17189675e+00,  7.22731604e-01,\n",
       "         7.79236325e-01, -6.48107186e-01],\n",
       "       [ 9.82012487e-01,  1.51919227e-01, -1.50189277e-01,\n",
       "        -5.75917198e-02, -1.67987953e-02],\n",
       "       [ 1.84690270e+00, -9.32768683e-02,  1.07980441e+00,\n",
       "        -3.09274766e-01,  3.96434136e-01],\n",
       "       [ 5.65963388e-01,  5.68494609e-01,  5.92917719e-01,\n",
       "        -8.06028353e-01,  1.70376525e+00],\n",
       "       [ 1.97251959e+00, -1.49263440e+00, -2.27401658e-01,\n",
       "         1.59051137e-01, -1.18220975e+00],\n",
       "       [-1.85941142e+00,  1.12101386e+00, -3.32152006e-01,\n",
       "         2.83106122e-02, -9.40559308e-01],\n",
       "       [ 1.30381609e+00, -1.04828361e-01,  1.82093977e+00,\n",
       "         1.37234834e+00, -2.47900365e-01],\n",
       "       [ 1.04964878e+00,  3.14539825e-01,  1.11450846e+00,\n",
       "         1.70373457e+00,  1.07962946e+00],\n",
       "       [ 1.04107807e+00,  7.63776796e-02, -2.33031623e+00,\n",
       "        -4.26093862e-01, -9.64134287e-01],\n",
       "       [-1.23442664e+00, -1.91491617e+00,  1.85259588e-01,\n",
       "        -1.51232923e+00, -6.42800119e-02],\n",
       "       [ 2.86418118e-01,  2.14046289e-01,  1.38472838e+00,\n",
       "         2.73381152e-01, -1.83465749e+00],\n",
       "       [ 2.03267016e+00, -8.17393658e-02, -2.01575175e+00,\n",
       "         7.15047238e-01, -4.01808591e-01],\n",
       "       [ 1.62599510e+00,  4.11307375e-01, -1.92840077e+00,\n",
       "        -3.04216765e-01, -2.47802954e-01],\n",
       "       [ 7.79049629e-01,  9.71136975e-01, -3.69325780e-01,\n",
       "         1.80646734e+00, -1.83830543e-01],\n",
       "       [-8.94302883e-01, -1.08414693e+00, -7.75012275e-01,\n",
       "        -1.32989328e+00,  4.13022742e-01],\n",
       "       [-2.45370248e+00,  7.09612809e-01, -7.83114531e-02,\n",
       "         1.77260885e-01, -9.03322343e-02],\n",
       "       [ 1.11056291e+00,  1.13190857e+00,  1.86344810e+00,\n",
       "        -8.57303853e-01,  2.34315260e-01],\n",
       "       [-1.79437302e+00, -7.54664585e-01, -1.47089687e+00,\n",
       "        -7.65208947e-01,  5.41916792e-01],\n",
       "       [-7.25770596e-01, -6.73689674e-01, -5.47390667e-01,\n",
       "         1.86643107e+00,  6.34112339e-01],\n",
       "       [ 6.41888730e-01, -6.78850013e-01,  8.10082586e-01,\n",
       "        -2.40027677e-01, -4.94101549e-01],\n",
       "       [ 9.56206607e-01,  3.12676832e-01, -2.71836196e-01,\n",
       "        -1.54178064e-02, -1.04123022e+00],\n",
       "       [-7.25770596e-01, -6.73689674e-01, -5.47390667e-01,\n",
       "         1.86643107e+00,  6.34112339e-01],\n",
       "       [ 5.64878399e-01, -9.17941969e-01,  2.01140861e-01,\n",
       "        -1.73052660e+00, -2.39714001e-02],\n",
       "       [ 1.58952684e-01,  7.20493525e-01, -2.37132146e-01,\n",
       "         1.99759153e+00, -3.58034895e-01],\n",
       "       [ 2.58324250e+00, -1.31846231e+00,  2.96160721e-01,\n",
       "         2.38754320e-01,  5.58553013e-01],\n",
       "       [-1.38769795e+00, -1.24771133e+00, -1.55824785e+00,\n",
       "         2.54055056e-01,  3.87911155e-01],\n",
       "       [ 9.46832570e-01,  2.36205473e-01,  3.83919818e-01,\n",
       "         2.55409564e-01,  5.25328186e-01],\n",
       "       [-1.79437302e+00, -7.54664585e-01, -1.47089687e+00,\n",
       "        -7.65208947e-01,  5.41916792e-01],\n",
       "       [-8.94302883e-01, -1.08414693e+00, -7.75012275e-01,\n",
       "        -1.32989328e+00,  4.13022742e-01],\n",
       "       [ 1.03918976e+00, -1.24836811e+00,  1.37848762e+00,\n",
       "         1.05006370e+00,  9.18451221e-01],\n",
       "       [ 5.64878399e-01, -9.17941969e-01,  2.01140861e-01,\n",
       "        -1.73052660e+00, -2.39714001e-02],\n",
       "       [-1.23442664e+00, -1.91491617e+00,  1.85259588e-01,\n",
       "        -1.51232923e+00, -6.42800119e-02],\n",
       "       [ 1.95825772e+00,  1.71746772e+00, -2.21250873e-01,\n",
       "         1.77939417e+00, -3.17726283e-01],\n",
       "       [ 2.18594147e+00, -7.48944207e-01, -2.72244310e-01,\n",
       "        -1.05133705e+00, -8.53999758e-01],\n",
       "       [ 1.15916947e+00, -5.06540916e-01, -5.26996925e-02,\n",
       "        -1.87947687e+00, -8.74198474e-01],\n",
       "       [-1.84406456e+00, -6.02651679e-01,  5.34740675e-02,\n",
       "        -6.67534175e-01, -7.73061231e-02],\n",
       "       [ 1.16025445e+00,  9.79895663e-01,  3.39077166e-01,\n",
       "        -9.54978625e-01,  8.53538174e-01]])"
      ]
     },
     "execution_count": 43,
     "metadata": {},
     "output_type": "execute_result"
    }
   ],
   "source": [
    "X_train_pca = opt_PCA_model.transform(X_train_z)\n",
    "X_train_pca"
   ]
  },
  {
   "cell_type": "code",
   "execution_count": 46,
   "metadata": {},
   "outputs": [
    {
     "data": {
      "text/plain": [
       "(200, 5)"
      ]
     },
     "execution_count": 46,
     "metadata": {},
     "output_type": "execute_result"
    }
   ],
   "source": [
    "X_train_pca.shape"
   ]
  },
  {
   "cell_type": "markdown",
   "metadata": {},
   "source": [
    "# 7. Applying KMeans Algorithm"
   ]
  },
  {
   "cell_type": "markdown",
   "metadata": {},
   "source": [
    "<font color='green'> \n",
    "****\n",
    "\n",
    "**Note**\n",
    "Converting all collection to DataFrames to be consistant.\n",
    "\n",
    "Even though few algorithms are returning numpy arrays we will convert them to Pandas dataframes.\n",
    "\n",
    "This is for two reasons\n",
    "\n",
    "1) With Pandas Dataframs we can easily plot sns figures which would make analysis fast and east with less code clutter\n",
    "\n",
    "2) Pandas data manupulations are more declarative hence better code redaility\n",
    "\n",
    "****\n",
    "</font>"
   ]
  },
  {
   "cell_type": "code",
   "execution_count": 47,
   "metadata": {},
   "outputs": [
    {
     "name": "stdout",
     "output_type": "stream",
     "text": [
      "(200, 5)\n"
     ]
    },
    {
     "data": {
      "text/html": [
       "<div>\n",
       "<style scoped>\n",
       "    .dataframe tbody tr th:only-of-type {\n",
       "        vertical-align: middle;\n",
       "    }\n",
       "\n",
       "    .dataframe tbody tr th {\n",
       "        vertical-align: top;\n",
       "    }\n",
       "\n",
       "    .dataframe thead th {\n",
       "        text-align: right;\n",
       "    }\n",
       "</style>\n",
       "<table border=\"1\" class=\"dataframe\">\n",
       "  <thead>\n",
       "    <tr style=\"text-align: right;\">\n",
       "      <th></th>\n",
       "      <th>0</th>\n",
       "      <th>1</th>\n",
       "      <th>2</th>\n",
       "      <th>3</th>\n",
       "      <th>4</th>\n",
       "    </tr>\n",
       "  </thead>\n",
       "  <tbody>\n",
       "    <tr>\n",
       "      <td>0</td>\n",
       "      <td>-1.717363</td>\n",
       "      <td>-0.515573</td>\n",
       "      <td>-0.861955</td>\n",
       "      <td>0.725290</td>\n",
       "      <td>0.071787</td>\n",
       "    </tr>\n",
       "    <tr>\n",
       "      <td>1</td>\n",
       "      <td>-0.323897</td>\n",
       "      <td>-0.681491</td>\n",
       "      <td>0.617165</td>\n",
       "      <td>-1.423343</td>\n",
       "      <td>-0.031996</td>\n",
       "    </tr>\n",
       "    <tr>\n",
       "      <td>2</td>\n",
       "      <td>1.144908</td>\n",
       "      <td>2.703561</td>\n",
       "      <td>-0.046549</td>\n",
       "      <td>-0.259134</td>\n",
       "      <td>-0.009715</td>\n",
       "    </tr>\n",
       "    <tr>\n",
       "      <td>3</td>\n",
       "      <td>-1.588812</td>\n",
       "      <td>0.464417</td>\n",
       "      <td>1.151682</td>\n",
       "      <td>-0.074422</td>\n",
       "      <td>0.322901</td>\n",
       "    </tr>\n",
       "    <tr>\n",
       "      <td>4</td>\n",
       "      <td>-1.310688</td>\n",
       "      <td>-1.008619</td>\n",
       "      <td>-0.949306</td>\n",
       "      <td>1.744554</td>\n",
       "      <td>-0.082219</td>\n",
       "    </tr>\n",
       "  </tbody>\n",
       "</table>\n",
       "</div>"
      ],
      "text/plain": [
       "          0         1         2         3         4\n",
       "0 -1.717363 -0.515573 -0.861955  0.725290  0.071787\n",
       "1 -0.323897 -0.681491  0.617165 -1.423343 -0.031996\n",
       "2  1.144908  2.703561 -0.046549 -0.259134 -0.009715\n",
       "3 -1.588812  0.464417  1.151682 -0.074422  0.322901\n",
       "4 -1.310688 -1.008619 -0.949306  1.744554 -0.082219"
      ]
     },
     "execution_count": 47,
     "metadata": {},
     "output_type": "execute_result"
    }
   ],
   "source": [
    "X_train_pca_df = pd.DataFrame(X_train_pca)\n",
    "print(X_train_pca_df.shape)\n",
    "X_train_pca_df.head()\n"
   ]
  },
  {
   "cell_type": "code",
   "execution_count": 49,
   "metadata": {},
   "outputs": [
    {
     "data": {
      "text/plain": [
       "<seaborn.axisgrid.PairGrid at 0x1e1d8ecd208>"
      ]
     },
     "execution_count": 49,
     "metadata": {},
     "output_type": "execute_result"
    },
    {
     "data": {
      "image/png": "[encoded data removed]",
      "text/plain": [
       "<Figure size 900x900 with 30 Axes>"
      ]
     },
     "metadata": {
      "needs_background": "light"
     },
     "output_type": "display_data"
    }
   ],
   "source": [
    "sns.pairplot(X_train_pca_df,diag_kind='kde')"
   ]
  },
  {
   "cell_type": "markdown",
   "metadata": {},
   "source": [
    "<font color='green'> \n",
    "****\n",
    "#### Inference\n",
    "1. As the pair plot show the distribution now is not linear this shows how PCA hasderived projections that are linearly independent of each other with out loosing variance from the data.\n",
    "\n",
    "2. The diagonal indicates that there are a minimumm of 2 clusters.In fact the 3rd dimenssion has around 5 clusters visible.\n",
    "\n",
    "\n",
    "****\n",
    "</font>"
   ]
  },
  {
   "cell_type": "markdown",
   "metadata": {},
   "source": [
    "# 8. Selecting and Apply optimal Kmeans Model"
   ]
  },
  {
   "cell_type": "code",
   "execution_count": 68,
   "metadata": {},
   "outputs": [],
   "source": [
    "mean_error = []\n",
    "inertia = []\n",
    "n_tries = range(1,10)\n",
    "\n",
    "for i in n_tries:\n",
    "    model = KMeans(n_clusters=i)\n",
    "    model.fit(X_train_pca_df)\n",
    "    inertia.append(model.inertia_)\n",
    "    mean_error.append(sum(np.min(cdist(X_train_pca_df, model.cluster_centers_, 'euclidean'), axis=1)))"
   ]
  },
  {
   "cell_type": "code",
   "execution_count": 69,
   "metadata": {},
   "outputs": [
    {
     "data": {
      "text/plain": [
       "Text(0.5, 1.0, 'Selecting k with the Elbow Method')"
      ]
     },
     "execution_count": 69,
     "metadata": {},
     "output_type": "execute_result"
    },
    {
     "data": {
      "image/png": "[encoded data removed]",
      "text/plain": [
       "<Figure size 432x288 with 1 Axes>"
      ]
     },
     "metadata": {
      "needs_background": "light"
     },
     "output_type": "display_data"
    }
   ],
   "source": [
    "plt.plot(n_tries, mean_error, 'bx-')\n",
    "plt.xlabel('k')\n",
    "plt.ylabel('Mean Square error')\n",
    "plt.title('Selecting k with the Elbow Method')"
   ]
  },
  {
   "cell_type": "code",
   "execution_count": 71,
   "metadata": {},
   "outputs": [
    {
     "data": {
      "text/plain": [
       "Text(0.5, 1.0, 'Selecting k with the Elbow Method')"
      ]
     },
     "execution_count": 71,
     "metadata": {},
     "output_type": "execute_result"
    },
    {
     "data": {
      "image/png": "[encoded data removed]",
      "text/plain": [
       "<Figure size 432x288 with 1 Axes>"
      ]
     },
     "metadata": {
      "needs_background": "light"
     },
     "output_type": "display_data"
    }
   ],
   "source": [
    "plt.plot(n_tries, inertia, 'bx-')\n",
    "plt.xlabel('k')\n",
    "plt.ylabel('Inertia')\n",
    "plt.title('Selecting k with the Elbow Method')"
   ]
  },
  {
   "cell_type": "markdown",
   "metadata": {},
   "source": [
    "<font color='green'> \n",
    "****\n",
    "#### Inference\n",
    "1. The drop is very drastical betweeb 1 to 3 and after which the drop has become constant.\n",
    "2. Hence choosing 3 as the number of clusters for this data set\n",
    "3. Both the sum of square and errors and inertia represent the same notion of error.Inface you can see then are linearly dependent :) which means one of them is redundant.\n",
    "\n",
    "\n",
    "****\n",
    "</font>"
   ]
  },
  {
   "cell_type": "markdown",
   "metadata": {},
   "source": [
    "# 9 . Select optimal number of clusters and form clusters out of the train data"
   ]
  },
  {
   "cell_type": "markdown",
   "metadata": {},
   "source": [
    "<font color='green'> \n",
    "****\n",
    "Applying the number of clusters to be 3 as inferred above\n",
    "\n",
    "****\n",
    "</font>"
   ]
  },
  {
   "cell_type": "code",
   "execution_count": 109,
   "metadata": {},
   "outputs": [
    {
     "data": {
      "text/plain": [
       "array([0, 0, 2, 0, 0, 1, 1, 1, 2, 2, 0, 0, 0, 0, 2, 0, 2, 0, 2, 2, 2, 0,\n",
       "       0, 0, 0, 2, 2, 0, 0, 0, 1, 2, 0, 2, 1, 0, 1, 1, 1, 2, 2, 0, 1, 2,\n",
       "       2, 2, 2, 0, 1, 1, 0, 2, 2, 0, 1, 0, 2, 0, 1, 0, 2, 1, 0, 2, 1, 0,\n",
       "       1, 0, 2, 0, 2, 0, 0, 0, 0, 0, 0, 0, 1, 2, 0, 0, 2, 0, 0, 2, 0, 1,\n",
       "       2, 0, 0, 0, 0, 2, 0, 0, 0, 2, 0, 1, 0, 0, 1, 2, 1, 0, 2, 1, 2, 0,\n",
       "       1, 0, 0, 1, 0, 1, 1, 0, 1, 0, 0, 0, 2, 2, 2, 2, 1, 0, 1, 0, 0, 2,\n",
       "       1, 0, 2, 2, 2, 0, 2, 1, 2, 2, 1, 2, 2, 1, 0, 1, 0, 0, 2, 0, 2, 0,\n",
       "       2, 0, 1, 0, 1, 0, 2, 2, 2, 1, 2, 1, 2, 1, 0, 1, 2, 2, 0, 1, 2, 2,\n",
       "       2, 0, 0, 2, 0, 0, 1, 2, 0, 1, 2, 1, 0, 2, 0, 0, 1, 1, 0, 2, 1, 1,\n",
       "       0, 2])"
      ]
     },
     "execution_count": 109,
     "metadata": {},
     "output_type": "execute_result"
    }
   ],
   "source": [
    "opt_kmean_model = KMeans(n_clusters=3)\n",
    "opt_kmean_model.fit(X_train_pca_df)\n",
    "clusters_predicted = opt_kmean_model.predict(X_train_pca_df)\n",
    "\n",
    "clusters_predicted"
   ]
  },
  {
   "cell_type": "code",
   "execution_count": 114,
   "metadata": {},
   "outputs": [
    {
     "data": {
      "text/plain": [
       "array([86, 48, 66], dtype=int64)"
      ]
     },
     "execution_count": 114,
     "metadata": {},
     "output_type": "execute_result"
    }
   ],
   "source": [
    "np.bincount(clusters_predicted)"
   ]
  },
  {
   "cell_type": "code",
   "execution_count": 115,
   "metadata": {},
   "outputs": [
    {
     "data": {
      "text/html": [
       "<div>\n",
       "<style scoped>\n",
       "    .dataframe tbody tr th:only-of-type {\n",
       "        vertical-align: middle;\n",
       "    }\n",
       "\n",
       "    .dataframe tbody tr th {\n",
       "        vertical-align: top;\n",
       "    }\n",
       "\n",
       "    .dataframe thead th {\n",
       "        text-align: right;\n",
       "    }\n",
       "</style>\n",
       "<table border=\"1\" class=\"dataframe\">\n",
       "  <thead>\n",
       "    <tr style=\"text-align: right;\">\n",
       "      <th></th>\n",
       "      <th>0</th>\n",
       "    </tr>\n",
       "  </thead>\n",
       "  <tbody>\n",
       "    <tr>\n",
       "      <td>0</td>\n",
       "      <td>0</td>\n",
       "    </tr>\n",
       "    <tr>\n",
       "      <td>1</td>\n",
       "      <td>0</td>\n",
       "    </tr>\n",
       "    <tr>\n",
       "      <td>2</td>\n",
       "      <td>2</td>\n",
       "    </tr>\n",
       "    <tr>\n",
       "      <td>3</td>\n",
       "      <td>0</td>\n",
       "    </tr>\n",
       "    <tr>\n",
       "      <td>4</td>\n",
       "      <td>0</td>\n",
       "    </tr>\n",
       "  </tbody>\n",
       "</table>\n",
       "</div>"
      ],
      "text/plain": [
       "   0\n",
       "0  0\n",
       "1  0\n",
       "2  2\n",
       "3  0\n",
       "4  0"
      ]
     },
     "execution_count": 115,
     "metadata": {},
     "output_type": "execute_result"
    }
   ],
   "source": [
    "clusters_predicted_df=pd.DataFrame(clusters_predicted)\n",
    "clusters_predicted_df.head()"
   ]
  },
  {
   "cell_type": "code",
   "execution_count": 130,
   "metadata": {},
   "outputs": [
    {
     "data": {
      "text/plain": [
       "(200, 1)"
      ]
     },
     "execution_count": 130,
     "metadata": {},
     "output_type": "execute_result"
    }
   ],
   "source": [
    "clusters_predicted_df.shape"
   ]
  },
  {
   "cell_type": "markdown",
   "metadata": {},
   "source": [
    "<font color='green'> \n",
    "****\n",
    "Above operation are to inspect and verify that tranformation from np array to pd dataframe didnt change the order or count.\n",
    "As we see it is the same. There was no change\n",
    "****\n",
    "</font>"
   ]
  },
  {
   "cell_type": "markdown",
   "metadata": {},
   "source": [
    "# 10. Create a new column in the train data and populate it with the cluster labels. "
   ]
  },
  {
   "cell_type": "code",
   "execution_count": 134,
   "metadata": {},
   "outputs": [
    {
     "data": {
      "text/html": [
       "<div>\n",
       "<style scoped>\n",
       "    .dataframe tbody tr th:only-of-type {\n",
       "        vertical-align: middle;\n",
       "    }\n",
       "\n",
       "    .dataframe tbody tr th {\n",
       "        vertical-align: top;\n",
       "    }\n",
       "\n",
       "    .dataframe thead th {\n",
       "        text-align: right;\n",
       "    }\n",
       "</style>\n",
       "<table border=\"1\" class=\"dataframe\">\n",
       "  <thead>\n",
       "    <tr style=\"text-align: right;\">\n",
       "      <th></th>\n",
       "      <th>0</th>\n",
       "      <th>1</th>\n",
       "      <th>2</th>\n",
       "      <th>3</th>\n",
       "      <th>4</th>\n",
       "      <th>0</th>\n",
       "    </tr>\n",
       "  </thead>\n",
       "  <tbody>\n",
       "    <tr>\n",
       "      <td>0</td>\n",
       "      <td>-1.717363</td>\n",
       "      <td>-0.515573</td>\n",
       "      <td>-0.861955</td>\n",
       "      <td>0.725290</td>\n",
       "      <td>0.071787</td>\n",
       "      <td>0</td>\n",
       "    </tr>\n",
       "    <tr>\n",
       "      <td>1</td>\n",
       "      <td>-0.323897</td>\n",
       "      <td>-0.681491</td>\n",
       "      <td>0.617165</td>\n",
       "      <td>-1.423343</td>\n",
       "      <td>-0.031996</td>\n",
       "      <td>0</td>\n",
       "    </tr>\n",
       "    <tr>\n",
       "      <td>2</td>\n",
       "      <td>1.144908</td>\n",
       "      <td>2.703561</td>\n",
       "      <td>-0.046549</td>\n",
       "      <td>-0.259134</td>\n",
       "      <td>-0.009715</td>\n",
       "      <td>2</td>\n",
       "    </tr>\n",
       "    <tr>\n",
       "      <td>3</td>\n",
       "      <td>-1.588812</td>\n",
       "      <td>0.464417</td>\n",
       "      <td>1.151682</td>\n",
       "      <td>-0.074422</td>\n",
       "      <td>0.322901</td>\n",
       "      <td>0</td>\n",
       "    </tr>\n",
       "    <tr>\n",
       "      <td>4</td>\n",
       "      <td>-1.310688</td>\n",
       "      <td>-1.008619</td>\n",
       "      <td>-0.949306</td>\n",
       "      <td>1.744554</td>\n",
       "      <td>-0.082219</td>\n",
       "      <td>0</td>\n",
       "    </tr>\n",
       "  </tbody>\n",
       "</table>\n",
       "</div>"
      ],
      "text/plain": [
       "          0         1         2         3         4  0\n",
       "0 -1.717363 -0.515573 -0.861955  0.725290  0.071787  0\n",
       "1 -0.323897 -0.681491  0.617165 -1.423343 -0.031996  0\n",
       "2  1.144908  2.703561 -0.046549 -0.259134 -0.009715  2\n",
       "3 -1.588812  0.464417  1.151682 -0.074422  0.322901  0\n",
       "4 -1.310688 -1.008619 -0.949306  1.744554 -0.082219  0"
      ]
     },
     "execution_count": 134,
     "metadata": {},
     "output_type": "execute_result"
    }
   ],
   "source": [
    "X_train_pca_kmean =  pd.concat([X_train_pca_df,clusters_predicted_df],axis=1,)\n",
    "X_train_pca_kmean.head()"
   ]
  },
  {
   "cell_type": "code",
   "execution_count": 138,
   "metadata": {},
   "outputs": [],
   "source": [
    "X_train_pca_kmean.columns=['0','1','2','3','4','5']"
   ]
  },
  {
   "cell_type": "code",
   "execution_count": 140,
   "metadata": {},
   "outputs": [
    {
     "data": {
      "text/plain": [
       "<seaborn.axisgrid.PairGrid at 0x1e1e50c5d88>"
      ]
     },
     "execution_count": 140,
     "metadata": {},
     "output_type": "execute_result"
    },
    {
     "data": {
      "image/png": "[encoded data removed]",
      "text/plain": [
       "<Figure size 1080x1080 with 42 Axes>"
      ]
     },
     "metadata": {
      "needs_background": "light"
     },
     "output_type": "display_data"
    }
   ],
   "source": [
    "sns.pairplot(X_train_pca_kmean,diag_kind='kde')"
   ]
  },
  {
   "cell_type": "markdown",
   "metadata": {},
   "source": [
    "# 11. Transform Test Data"
   ]
  },
  {
   "cell_type": "markdown",
   "metadata": {},
   "source": [
    "### Normalize Test data"
   ]
  },
  {
   "cell_type": "markdown",
   "metadata": {},
   "source": [
    "<font color='green'> \n",
    "    \n",
    "****\n",
    "    We will now replicate the same procedure to test data\n",
    "    1)normalize\n",
    "    2)Apply same PCA model\n",
    "    3)Apply Kmean model we defined earlier\n",
    "****\n",
    "</font>"
   ]
  },
  {
   "cell_type": "code",
   "execution_count": 141,
   "metadata": {},
   "outputs": [
    {
     "name": "stdout",
     "output_type": "stream",
     "text": [
      "(50, 6)\n"
     ]
    },
    {
     "data": {
      "text/html": [
       "<div>\n",
       "<style scoped>\n",
       "    .dataframe tbody tr th:only-of-type {\n",
       "        vertical-align: middle;\n",
       "    }\n",
       "\n",
       "    .dataframe tbody tr th {\n",
       "        vertical-align: top;\n",
       "    }\n",
       "\n",
       "    .dataframe thead th {\n",
       "        text-align: right;\n",
       "    }\n",
       "</style>\n",
       "<table border=\"1\" class=\"dataframe\">\n",
       "  <thead>\n",
       "    <tr style=\"text-align: right;\">\n",
       "      <th></th>\n",
       "      <th>IR</th>\n",
       "      <th>MR</th>\n",
       "      <th>FF</th>\n",
       "      <th>CR</th>\n",
       "      <th>CO</th>\n",
       "      <th>OP</th>\n",
       "    </tr>\n",
       "  </thead>\n",
       "  <tbody>\n",
       "    <tr>\n",
       "      <td>67</td>\n",
       "      <td>-1.059784</td>\n",
       "      <td>-0.220300</td>\n",
       "      <td>0.894737</td>\n",
       "      <td>-0.071899</td>\n",
       "      <td>-1.082493</td>\n",
       "      <td>0.853115</td>\n",
       "    </tr>\n",
       "    <tr>\n",
       "      <td>249</td>\n",
       "      <td>-1.059784</td>\n",
       "      <td>1.003589</td>\n",
       "      <td>0.894737</td>\n",
       "      <td>1.126415</td>\n",
       "      <td>0.022092</td>\n",
       "      <td>-0.299743</td>\n",
       "    </tr>\n",
       "    <tr>\n",
       "      <td>230</td>\n",
       "      <td>0.092155</td>\n",
       "      <td>-1.444188</td>\n",
       "      <td>0.894737</td>\n",
       "      <td>1.126415</td>\n",
       "      <td>1.126676</td>\n",
       "      <td>0.853115</td>\n",
       "    </tr>\n",
       "    <tr>\n",
       "      <td>161</td>\n",
       "      <td>0.092155</td>\n",
       "      <td>1.003589</td>\n",
       "      <td>0.894737</td>\n",
       "      <td>1.126415</td>\n",
       "      <td>1.126676</td>\n",
       "      <td>0.853115</td>\n",
       "    </tr>\n",
       "    <tr>\n",
       "      <td>91</td>\n",
       "      <td>-1.059784</td>\n",
       "      <td>-0.220300</td>\n",
       "      <td>-0.421053</td>\n",
       "      <td>-1.270213</td>\n",
       "      <td>-1.082493</td>\n",
       "      <td>-1.452600</td>\n",
       "    </tr>\n",
       "  </tbody>\n",
       "</table>\n",
       "</div>"
      ],
      "text/plain": [
       "           IR        MR        FF        CR        CO        OP\n",
       "67  -1.059784 -0.220300  0.894737 -0.071899 -1.082493  0.853115\n",
       "249 -1.059784  1.003589  0.894737  1.126415  0.022092 -0.299743\n",
       "230  0.092155 -1.444188  0.894737  1.126415  1.126676  0.853115\n",
       "161  0.092155  1.003589  0.894737  1.126415  1.126676  0.853115\n",
       "91  -1.059784 -0.220300 -0.421053 -1.270213 -1.082493 -1.452600"
      ]
     },
     "execution_count": 141,
     "metadata": {},
     "output_type": "execute_result"
    }
   ],
   "source": [
    "X_test_z=X_test.apply(zscore)\n",
    "print(X_test_z.shape)\n",
    "X_test_z.head()"
   ]
  },
  {
   "cell_type": "code",
   "execution_count": 142,
   "metadata": {},
   "outputs": [
    {
     "data": {
      "text/plain": [
       "array([[ 0.33803666, -0.32877207, -1.13877211, -0.00830551,  1.28987646],\n",
       "       [-0.96909494, -0.98634196, -0.49716747, -1.34052968,  0.26323807],\n",
       "       [-1.33574008, -0.95870766, -0.7236847 ,  1.6998003 , -0.20529136],\n",
       "       [-2.15200893,  0.03092444, -0.54835582, -0.34604303,  0.10382522],\n",
       "       [ 2.11087998, -0.71423159,  0.64069697, -0.79105992,  0.48981143],\n",
       "       [-1.4375248 , -1.14425095, -1.28306876,  0.23897107,  0.24303403],\n",
       "       [ 0.99330863,  0.29125846,  1.292278  ,  1.6389888 ,  0.95676295],\n",
       "       [-2.05022422,  0.21646772,  0.01102824,  1.1147862 , -0.34450017],\n",
       "       [-2.45835864,  0.71128378,  0.09869268,  0.09186454, -0.18994188],\n",
       "       [ 1.16564842,  2.73688079,  0.10051532, -0.35215429, -0.24563656],\n",
       "       [-2.17922395,  0.13289541,  0.92429089, -0.28057682, -0.49213253],\n",
       "       [-1.84565922, -0.64943489, -1.19540431, -0.78395059,  0.39759232],\n",
       "       [ 1.92158482, -1.45052894,  0.68039389,  0.41599947,  0.16741674],\n",
       "       [-1.29695411,  1.37631633,  0.8967314 ,  0.3338623 ,  1.23239739],\n",
       "       [ 1.52539558,  0.54451611,  0.46214726,  0.01928901,  0.49823497],\n",
       "       [ 0.61717135, -0.90716044, -0.31317391, -0.38074687,  0.98768581],\n",
       "       [-2.17922395,  0.13289541,  0.92429089, -0.28057682, -0.49213253],\n",
       "       [ 0.81569358,  0.12842752,  0.97639055, -1.4970729 , -0.36056702],\n",
       "       [-0.03365569,  0.36336361, -1.19449299, -1.00596001,  0.36974498],\n",
       "       [ 1.38004276, -0.3847872 , -1.49718324,  0.85574558,  0.2284648 ],\n",
       "       [-1.84565922, -0.64943489, -1.19540431, -0.78395059,  0.39759232],\n",
       "       [ 0.76734334,  0.97593147, -0.20308625,  1.73156071, -0.35906941],\n",
       "       [ 2.01391443,  0.05401374, -1.76792993,  0.69687502, -0.67838857],\n",
       "       [-1.87765638,  1.04380005,  0.49771204,  0.21286342,  0.52122775],\n",
       "       [ 0.53177675,  2.29807986,  0.371262  , -0.19328373,  0.66121681],\n",
       "       [ 2.57218382, -1.10276299, -0.11673352, -0.04800771, -1.28276987],\n",
       "       [-1.84565922, -0.64943489, -1.19540431, -0.78395059,  0.39759232],\n",
       "       [-2.45835864,  0.71128378,  0.09869268,  0.09186454, -0.18994188],\n",
       "       [ 1.38926982, -0.08549659, -0.16792187,  0.94647895, -1.44218272],\n",
       "       [-1.84565922, -0.64943489, -1.19540431, -0.78395059,  0.39759232],\n",
       "       [-1.49195483, -0.940309  ,  1.66222465,  0.36990347, -0.94888146],\n",
       "       [ 1.14321554,  1.24758778,  1.35269237, -1.2180359 , -1.56118749],\n",
       "       [ 2.11087998, -0.71423159,  0.64069697, -0.79105992,  0.48981143],\n",
       "       [-1.74387451, -0.46389161, -0.63602026,  0.67687864, -0.05073307],\n",
       "       [-1.18560512, -1.62066834,  1.01517615, -0.06800409, -0.65511436],\n",
       "       [-1.74387451, -0.46389161, -0.63602026,  0.67687864, -0.05073307],\n",
       "       [ 1.20710068, -0.27535355,  1.41510683, -0.16901462,  0.02820793],\n",
       "       [ 1.09004614,  1.14130313,  2.02245841, -0.93816645,  0.05683551],\n",
       "       [ 0.58494616,  2.40436451, -0.29850404, -0.47315318, -0.9568062 ],\n",
       "       [-1.84565922, -0.64943489, -1.19540431, -0.78395059,  0.39759232],\n",
       "       [-1.84565922, -0.64943489, -1.19540431, -0.78395059,  0.39759232],\n",
       "       [ 1.52539558,  0.54451611,  0.46214726,  0.01928901,  0.49823497],\n",
       "       [ 1.1706586 , -0.47267319,  1.55849215, -0.19428179,  1.10289769],\n",
       "       [ 1.96074503, -0.05227092, -1.09816388,  0.97674446,  0.93963443],\n",
       "       [ 1.3088854 , -0.08981027,  1.97449088,  1.2918146 , -0.42011746],\n",
       "       [ 0.34726372, -0.02948147,  0.19048926,  0.08242786, -0.38077106],\n",
       "       [ 1.18091825,  1.13468082, -1.06622032, -1.04383169,  0.17406125],\n",
       "       [ 2.57218382, -1.10276299, -0.11673352, -0.04800771, -1.28276987],\n",
       "       [ 1.98191728,  1.74724868, -0.07481357,  1.69368903, -0.55475314],\n",
       "       [ 1.34088255, -1.78304522,  0.28137453,  0.29500059, -0.54375289]])"
      ]
     },
     "execution_count": 142,
     "metadata": {},
     "output_type": "execute_result"
    }
   ],
   "source": [
    "X_test_pca = opt_PCA_model.transform(X_test_z)\n",
    "X_test_pca"
   ]
  },
  {
   "cell_type": "code",
   "execution_count": 148,
   "metadata": {},
   "outputs": [
    {
     "data": {
      "text/plain": [
       "(50, 5)"
      ]
     },
     "execution_count": 148,
     "metadata": {},
     "output_type": "execute_result"
    }
   ],
   "source": [
    "X_test_pca.shape"
   ]
  },
  {
   "cell_type": "code",
   "execution_count": 155,
   "metadata": {},
   "outputs": [
    {
     "name": "stdout",
     "output_type": "stream",
     "text": [
      "(50, 5)\n"
     ]
    },
    {
     "data": {
      "text/html": [
       "<div>\n",
       "<style scoped>\n",
       "    .dataframe tbody tr th:only-of-type {\n",
       "        vertical-align: middle;\n",
       "    }\n",
       "\n",
       "    .dataframe tbody tr th {\n",
       "        vertical-align: top;\n",
       "    }\n",
       "\n",
       "    .dataframe thead th {\n",
       "        text-align: right;\n",
       "    }\n",
       "</style>\n",
       "<table border=\"1\" class=\"dataframe\">\n",
       "  <thead>\n",
       "    <tr style=\"text-align: right;\">\n",
       "      <th></th>\n",
       "      <th>0</th>\n",
       "      <th>1</th>\n",
       "      <th>2</th>\n",
       "      <th>3</th>\n",
       "      <th>4</th>\n",
       "    </tr>\n",
       "  </thead>\n",
       "  <tbody>\n",
       "    <tr>\n",
       "      <td>0</td>\n",
       "      <td>0.338037</td>\n",
       "      <td>-0.328772</td>\n",
       "      <td>-1.138772</td>\n",
       "      <td>-0.008306</td>\n",
       "      <td>1.289876</td>\n",
       "    </tr>\n",
       "    <tr>\n",
       "      <td>1</td>\n",
       "      <td>-0.969095</td>\n",
       "      <td>-0.986342</td>\n",
       "      <td>-0.497167</td>\n",
       "      <td>-1.340530</td>\n",
       "      <td>0.263238</td>\n",
       "    </tr>\n",
       "    <tr>\n",
       "      <td>2</td>\n",
       "      <td>-1.335740</td>\n",
       "      <td>-0.958708</td>\n",
       "      <td>-0.723685</td>\n",
       "      <td>1.699800</td>\n",
       "      <td>-0.205291</td>\n",
       "    </tr>\n",
       "    <tr>\n",
       "      <td>3</td>\n",
       "      <td>-2.152009</td>\n",
       "      <td>0.030924</td>\n",
       "      <td>-0.548356</td>\n",
       "      <td>-0.346043</td>\n",
       "      <td>0.103825</td>\n",
       "    </tr>\n",
       "    <tr>\n",
       "      <td>4</td>\n",
       "      <td>2.110880</td>\n",
       "      <td>-0.714232</td>\n",
       "      <td>0.640697</td>\n",
       "      <td>-0.791060</td>\n",
       "      <td>0.489811</td>\n",
       "    </tr>\n",
       "  </tbody>\n",
       "</table>\n",
       "</div>"
      ],
      "text/plain": [
       "          0         1         2         3         4\n",
       "0  0.338037 -0.328772 -1.138772 -0.008306  1.289876\n",
       "1 -0.969095 -0.986342 -0.497167 -1.340530  0.263238\n",
       "2 -1.335740 -0.958708 -0.723685  1.699800 -0.205291\n",
       "3 -2.152009  0.030924 -0.548356 -0.346043  0.103825\n",
       "4  2.110880 -0.714232  0.640697 -0.791060  0.489811"
      ]
     },
     "execution_count": 155,
     "metadata": {},
     "output_type": "execute_result"
    }
   ],
   "source": [
    "X_test_pca_df = pd.DataFrame(X_test_pca)\n",
    "print(X_test_pca_df.shape)\n",
    "X_test_pca_df.head()"
   ]
  },
  {
   "cell_type": "markdown",
   "metadata": {},
   "source": [
    "# 12. Use the same kmeans object, assign cluster labels to the test data and store it as a feature."
   ]
  },
  {
   "cell_type": "code",
   "execution_count": 156,
   "metadata": {},
   "outputs": [],
   "source": [
    "clusters_predicted_test = opt_kmean_model.predict(X_test_pca_df)"
   ]
  },
  {
   "cell_type": "code",
   "execution_count": 157,
   "metadata": {},
   "outputs": [
    {
     "data": {
      "text/plain": [
       "array([2, 0, 0, 0, 1, 0, 1, 0, 0, 2, 0, 0, 1, 0, 2, 1, 0, 1, 2, 2, 0, 2,\n",
       "       2, 0, 2, 1, 0, 0, 1, 0, 0, 2, 1, 0, 0, 0, 1, 2, 2, 0, 0, 2, 1, 2,\n",
       "       1, 2, 2, 1, 2, 1])"
      ]
     },
     "execution_count": 157,
     "metadata": {},
     "output_type": "execute_result"
    }
   ],
   "source": [
    "clusters_predicted_test"
   ]
  },
  {
   "cell_type": "code",
   "execution_count": 158,
   "metadata": {},
   "outputs": [
    {
     "data": {
      "text/plain": [
       "array([21, 13, 16], dtype=int64)"
      ]
     },
     "execution_count": 158,
     "metadata": {},
     "output_type": "execute_result"
    }
   ],
   "source": [
    "np.bincount(clusters_predicted_test)"
   ]
  },
  {
   "cell_type": "code",
   "execution_count": 161,
   "metadata": {},
   "outputs": [
    {
     "data": {
      "text/html": [
       "<div>\n",
       "<style scoped>\n",
       "    .dataframe tbody tr th:only-of-type {\n",
       "        vertical-align: middle;\n",
       "    }\n",
       "\n",
       "    .dataframe tbody tr th {\n",
       "        vertical-align: top;\n",
       "    }\n",
       "\n",
       "    .dataframe thead th {\n",
       "        text-align: right;\n",
       "    }\n",
       "</style>\n",
       "<table border=\"1\" class=\"dataframe\">\n",
       "  <thead>\n",
       "    <tr style=\"text-align: right;\">\n",
       "      <th></th>\n",
       "      <th>0</th>\n",
       "    </tr>\n",
       "  </thead>\n",
       "  <tbody>\n",
       "    <tr>\n",
       "      <td>0</td>\n",
       "      <td>2</td>\n",
       "    </tr>\n",
       "    <tr>\n",
       "      <td>1</td>\n",
       "      <td>0</td>\n",
       "    </tr>\n",
       "    <tr>\n",
       "      <td>2</td>\n",
       "      <td>0</td>\n",
       "    </tr>\n",
       "    <tr>\n",
       "      <td>3</td>\n",
       "      <td>0</td>\n",
       "    </tr>\n",
       "    <tr>\n",
       "      <td>4</td>\n",
       "      <td>1</td>\n",
       "    </tr>\n",
       "  </tbody>\n",
       "</table>\n",
       "</div>"
      ],
      "text/plain": [
       "   0\n",
       "0  2\n",
       "1  0\n",
       "2  0\n",
       "3  0\n",
       "4  1"
      ]
     },
     "execution_count": 161,
     "metadata": {},
     "output_type": "execute_result"
    }
   ],
   "source": [
    "clusters_predicted_test_df=pd.DataFrame(clusters_predicted_test)\n",
    "clusters_predicted_test_df.head()"
   ]
  },
  {
   "cell_type": "code",
   "execution_count": 162,
   "metadata": {},
   "outputs": [
    {
     "data": {
      "text/plain": [
       "(50, 1)"
      ]
     },
     "execution_count": 162,
     "metadata": {},
     "output_type": "execute_result"
    }
   ],
   "source": [
    "clusters_predicted_test_df.shape"
   ]
  },
  {
   "cell_type": "code",
   "execution_count": 164,
   "metadata": {},
   "outputs": [
    {
     "data": {
      "text/html": [
       "<div>\n",
       "<style scoped>\n",
       "    .dataframe tbody tr th:only-of-type {\n",
       "        vertical-align: middle;\n",
       "    }\n",
       "\n",
       "    .dataframe tbody tr th {\n",
       "        vertical-align: top;\n",
       "    }\n",
       "\n",
       "    .dataframe thead th {\n",
       "        text-align: right;\n",
       "    }\n",
       "</style>\n",
       "<table border=\"1\" class=\"dataframe\">\n",
       "  <thead>\n",
       "    <tr style=\"text-align: right;\">\n",
       "      <th></th>\n",
       "      <th>0</th>\n",
       "      <th>1</th>\n",
       "      <th>2</th>\n",
       "      <th>3</th>\n",
       "      <th>4</th>\n",
       "      <th>0</th>\n",
       "    </tr>\n",
       "  </thead>\n",
       "  <tbody>\n",
       "    <tr>\n",
       "      <td>0</td>\n",
       "      <td>0.338037</td>\n",
       "      <td>-0.328772</td>\n",
       "      <td>-1.138772</td>\n",
       "      <td>-0.008306</td>\n",
       "      <td>1.289876</td>\n",
       "      <td>2</td>\n",
       "    </tr>\n",
       "    <tr>\n",
       "      <td>1</td>\n",
       "      <td>-0.969095</td>\n",
       "      <td>-0.986342</td>\n",
       "      <td>-0.497167</td>\n",
       "      <td>-1.340530</td>\n",
       "      <td>0.263238</td>\n",
       "      <td>0</td>\n",
       "    </tr>\n",
       "    <tr>\n",
       "      <td>2</td>\n",
       "      <td>-1.335740</td>\n",
       "      <td>-0.958708</td>\n",
       "      <td>-0.723685</td>\n",
       "      <td>1.699800</td>\n",
       "      <td>-0.205291</td>\n",
       "      <td>0</td>\n",
       "    </tr>\n",
       "    <tr>\n",
       "      <td>3</td>\n",
       "      <td>-2.152009</td>\n",
       "      <td>0.030924</td>\n",
       "      <td>-0.548356</td>\n",
       "      <td>-0.346043</td>\n",
       "      <td>0.103825</td>\n",
       "      <td>0</td>\n",
       "    </tr>\n",
       "    <tr>\n",
       "      <td>4</td>\n",
       "      <td>2.110880</td>\n",
       "      <td>-0.714232</td>\n",
       "      <td>0.640697</td>\n",
       "      <td>-0.791060</td>\n",
       "      <td>0.489811</td>\n",
       "      <td>1</td>\n",
       "    </tr>\n",
       "  </tbody>\n",
       "</table>\n",
       "</div>"
      ],
      "text/plain": [
       "          0         1         2         3         4  0\n",
       "0  0.338037 -0.328772 -1.138772 -0.008306  1.289876  2\n",
       "1 -0.969095 -0.986342 -0.497167 -1.340530  0.263238  0\n",
       "2 -1.335740 -0.958708 -0.723685  1.699800 -0.205291  0\n",
       "3 -2.152009  0.030924 -0.548356 -0.346043  0.103825  0\n",
       "4  2.110880 -0.714232  0.640697 -0.791060  0.489811  1"
      ]
     },
     "execution_count": 164,
     "metadata": {},
     "output_type": "execute_result"
    }
   ],
   "source": [
    "X_test_pca_kmean =  pd.concat([X_test_pca_df,clusters_predicted_test_df],axis=1,)\n",
    "X_test_pca_kmean.head()"
   ]
  },
  {
   "cell_type": "code",
   "execution_count": 165,
   "metadata": {},
   "outputs": [
    {
     "data": {
      "text/plain": [
       "(50, 6)"
      ]
     },
     "execution_count": 165,
     "metadata": {},
     "output_type": "execute_result"
    }
   ],
   "source": [
    "X_test_pca_kmean.shape"
   ]
  },
  {
   "cell_type": "markdown",
   "metadata": {},
   "source": [
    "<font color='green'> \n",
    "****\n",
    "There is a duplicate in column names .\n",
    "   This will not work when we perform a sns pairplot or any other application that is sensitive to duplicate column names.\n",
    "    Hence renaming the fields to have disinct field names\n",
    "   \n",
    "****\n",
    "</font>"
   ]
  },
  {
   "cell_type": "code",
   "execution_count": 166,
   "metadata": {},
   "outputs": [
    {
     "data": {
      "text/html": [
       "<div>\n",
       "<style scoped>\n",
       "    .dataframe tbody tr th:only-of-type {\n",
       "        vertical-align: middle;\n",
       "    }\n",
       "\n",
       "    .dataframe tbody tr th {\n",
       "        vertical-align: top;\n",
       "    }\n",
       "\n",
       "    .dataframe thead th {\n",
       "        text-align: right;\n",
       "    }\n",
       "</style>\n",
       "<table border=\"1\" class=\"dataframe\">\n",
       "  <thead>\n",
       "    <tr style=\"text-align: right;\">\n",
       "      <th></th>\n",
       "      <th>0</th>\n",
       "      <th>1</th>\n",
       "      <th>2</th>\n",
       "      <th>3</th>\n",
       "      <th>4</th>\n",
       "      <th>5</th>\n",
       "    </tr>\n",
       "  </thead>\n",
       "  <tbody>\n",
       "    <tr>\n",
       "      <td>0</td>\n",
       "      <td>0.338037</td>\n",
       "      <td>-0.328772</td>\n",
       "      <td>-1.138772</td>\n",
       "      <td>-0.008306</td>\n",
       "      <td>1.289876</td>\n",
       "      <td>2</td>\n",
       "    </tr>\n",
       "    <tr>\n",
       "      <td>1</td>\n",
       "      <td>-0.969095</td>\n",
       "      <td>-0.986342</td>\n",
       "      <td>-0.497167</td>\n",
       "      <td>-1.340530</td>\n",
       "      <td>0.263238</td>\n",
       "      <td>0</td>\n",
       "    </tr>\n",
       "    <tr>\n",
       "      <td>2</td>\n",
       "      <td>-1.335740</td>\n",
       "      <td>-0.958708</td>\n",
       "      <td>-0.723685</td>\n",
       "      <td>1.699800</td>\n",
       "      <td>-0.205291</td>\n",
       "      <td>0</td>\n",
       "    </tr>\n",
       "    <tr>\n",
       "      <td>3</td>\n",
       "      <td>-2.152009</td>\n",
       "      <td>0.030924</td>\n",
       "      <td>-0.548356</td>\n",
       "      <td>-0.346043</td>\n",
       "      <td>0.103825</td>\n",
       "      <td>0</td>\n",
       "    </tr>\n",
       "    <tr>\n",
       "      <td>4</td>\n",
       "      <td>2.110880</td>\n",
       "      <td>-0.714232</td>\n",
       "      <td>0.640697</td>\n",
       "      <td>-0.791060</td>\n",
       "      <td>0.489811</td>\n",
       "      <td>1</td>\n",
       "    </tr>\n",
       "  </tbody>\n",
       "</table>\n",
       "</div>"
      ],
      "text/plain": [
       "          0         1         2         3         4  5\n",
       "0  0.338037 -0.328772 -1.138772 -0.008306  1.289876  2\n",
       "1 -0.969095 -0.986342 -0.497167 -1.340530  0.263238  0\n",
       "2 -1.335740 -0.958708 -0.723685  1.699800 -0.205291  0\n",
       "3 -2.152009  0.030924 -0.548356 -0.346043  0.103825  0\n",
       "4  2.110880 -0.714232  0.640697 -0.791060  0.489811  1"
      ]
     },
     "execution_count": 166,
     "metadata": {},
     "output_type": "execute_result"
    }
   ],
   "source": [
    "X_test_pca_kmean.columns=['0','1','2','3','4','5']\n",
    "X_test_pca_kmean.head()"
   ]
  },
  {
   "cell_type": "code",
   "execution_count": 167,
   "metadata": {},
   "outputs": [
    {
     "name": "stdout",
     "output_type": "stream",
     "text": [
      "Shapes of test and train data\n",
      "X_train =(200, 6)\n",
      "X_test =(50, 6)\n",
      "y_train =(200,)\n",
      "y_test =(50,)\n"
     ]
    }
   ],
   "source": [
    "print(\"Shapes of test and train data\")\n",
    "print(\"X_train =\"+str(X_train_pca_kmean.shape))\n",
    "print(\"X_test =\"+str(X_test_pca_kmean.shape))\n",
    "print(\"y_train =\"+str(y_train.shape))\n",
    "print(\"y_test =\"+str(y_test.shape))"
   ]
  },
  {
   "cell_type": "markdown",
   "metadata": {},
   "source": [
    "# 13. Apply Classification"
   ]
  },
  {
   "cell_type": "code",
   "execution_count": 171,
   "metadata": {},
   "outputs": [
    {
     "name": "stderr",
     "output_type": "stream",
     "text": [
      "D:\\IT\\Apps\\Anaconda\\lib\\site-packages\\sklearn\\svm\\base.py:193: FutureWarning: The default value of gamma will change from 'auto' to 'scale' in version 0.22 to account better for unscaled features. Set gamma explicitly to 'auto' or 'scale' to avoid this warning.\n",
      "  \"avoid this warning.\", FutureWarning)\n"
     ]
    },
    {
     "data": {
      "text/plain": [
       "SVC(C=1.0, cache_size=200, class_weight=None, coef0=0.0,\n",
       "    decision_function_shape='ovr', degree=3, gamma='auto_deprecated',\n",
       "    kernel='rbf', max_iter=-1, probability=False, random_state=None,\n",
       "    shrinking=True, tol=0.001, verbose=False)"
      ]
     },
     "execution_count": 171,
     "metadata": {},
     "output_type": "execute_result"
    }
   ],
   "source": [
    "svc_cls=SVC()\n",
    "svc_cls.fit(X_train_pca_kmean, y_train)"
   ]
  },
  {
   "cell_type": "code",
   "execution_count": 172,
   "metadata": {},
   "outputs": [
    {
     "data": {
      "text/plain": [
       "1.0"
      ]
     },
     "execution_count": 172,
     "metadata": {},
     "output_type": "execute_result"
    }
   ],
   "source": [
    "svc_cls.score(X_test_pca_kmean,y_test)"
   ]
  },
  {
   "cell_type": "code",
   "execution_count": 173,
   "metadata": {},
   "outputs": [],
   "source": [
    "y_predict = svc_cls.predict(X_test_pca_kmean)"
   ]
  },
  {
   "cell_type": "code",
   "execution_count": 174,
   "metadata": {},
   "outputs": [
    {
     "data": {
      "text/plain": [
       "array([0, 1, 1, 1, 0, 1, 0, 1, 1, 0, 1, 1, 0, 1, 0, 0, 1, 0, 0, 0, 1, 0,\n",
       "       0, 1, 0, 0, 1, 1, 0, 1, 1, 0, 0, 1, 1, 1, 0, 0, 0, 1, 1, 0, 0, 0,\n",
       "       0, 0, 0, 0, 0, 0], dtype=int64)"
      ]
     },
     "execution_count": 174,
     "metadata": {},
     "output_type": "execute_result"
    }
   ],
   "source": [
    "y_predict"
   ]
  },
  {
   "cell_type": "code",
   "execution_count": 178,
   "metadata": {},
   "outputs": [
    {
     "data": {
      "text/plain": [
       "67     0\n",
       "249    1\n",
       "230    1\n",
       "161    1\n",
       "91     0\n",
       "224    1\n",
       "58     0\n",
       "234    1\n",
       "180    1\n",
       "4      0\n",
       "242    1\n",
       "188    1\n",
       "116    0\n",
       "182    1\n",
       "127    0\n",
       "78     0\n",
       "184    1\n",
       "51     0\n",
       "27     0\n",
       "73     0\n",
       "225    1\n",
       "34     0\n",
       "95     0\n",
       "186    1\n",
       "120    0\n",
       "119    0\n",
       "246    1\n",
       "239    1\n",
       "38     0\n",
       "216    1\n",
       "226    1\n",
       "44     0\n",
       "62     0\n",
       "208    1\n",
       "160    1\n",
       "229    1\n",
       "39     0\n",
       "31     0\n",
       "18     0\n",
       "236    1\n",
       "205    1\n",
       "19     0\n",
       "93     0\n",
       "102    0\n",
       "33     0\n",
       "110    0\n",
       "35     0\n",
       "11     0\n",
       "29     0\n",
       "0      0\n",
       "Name: CLASS, dtype: int64"
      ]
     },
     "execution_count": 178,
     "metadata": {},
     "output_type": "execute_result"
    }
   ],
   "source": [
    "y_test"
   ]
  },
  {
   "cell_type": "markdown",
   "metadata": {},
   "source": [
    "<font color='green'> \n",
    "****\n",
    "The above we are trying to manually inspect if the accuray score reflects the predicted values and it does all the predicted values exactly match with the actual values\n",
    "   \n",
    "****\n",
    "</font>"
   ]
  },
  {
   "cell_type": "markdown",
   "metadata": {},
   "source": [
    "# 14. Check Accuracy and Confusion Matrix"
   ]
  },
  {
   "cell_type": "code",
   "execution_count": 177,
   "metadata": {},
   "outputs": [
    {
     "name": "stdout",
     "output_type": "stream",
     "text": [
      "Accuracy Score = 1.0\n",
      "Recall Score = 1.0\n",
      "Classification Report\n",
      "              precision    recall  f1-score   support\n",
      "\n",
      "           0       1.00      1.00      1.00        29\n",
      "           1       1.00      1.00      1.00        21\n",
      "\n",
      "    accuracy                           1.00        50\n",
      "   macro avg       1.00      1.00      1.00        50\n",
      "weighted avg       1.00      1.00      1.00        50\n",
      "\n"
     ]
    }
   ],
   "source": [
    "print(\"Accuracy Score = \"+ str(svc_cls.score(X_test_pca_kmean,y_test)))\n",
    "print(\"Recall Score = \"+str(metrics.recall_score(y_test,y_predict)))\n",
    "print(\"Classification Report\")\n",
    "print(metrics.classification_report(y_test,y_predict))"
   ]
  },
  {
   "cell_type": "markdown",
   "metadata": {},
   "source": [
    "<font color='green'> \n",
    "****\n",
    "#### Inference\n",
    "\n",
    "1. As we can see from the classificaiton report that we were able to predict all the values spot on. But however this is  because the data is perfectly catagorical.\n",
    "\n",
    "2. The data initially provided in itself was catagorical(P,A,N). As we converted this into a numbers and then used PCA for dimenssionality reduction . we were able to filter out the noise.\n",
    "\n",
    "3. The clustering added additional dimension to the data which would aid SVC.\n",
    "\n",
    "4. **SVC** workes best in this case as we made all the dimessions linearlly independent of each other. In other words we made the data **linearly seperable**. Hence SVC was able to find the perfect hype place that could classify our data.  \n",
    "\n",
    "The data in this case is very catagorical that a plane LogesticRegression would also have given comparable results\n",
    "\n",
    "****\n",
    "</font>"
   ]
  }
 ],
 "metadata": {
  "kernelspec": {
   "display_name": "Python 3",
   "language": "python",
   "name": "python3"
  },
  "language_info": {
   "codemirror_mode": {
    "name": "ipython",
    "version": 3
   },
   "file_extension": ".py",
   "mimetype": "text/x-python",
   "name": "python",
   "nbconvert_exporter": "python",
   "pygments_lexer": "ipython3",
   "version": "3.6.9"
  }
 },
 "nbformat": 4,
 "nbformat_minor": 2
}
