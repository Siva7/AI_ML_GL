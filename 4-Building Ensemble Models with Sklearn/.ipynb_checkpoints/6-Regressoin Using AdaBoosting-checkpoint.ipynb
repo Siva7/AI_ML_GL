{
 "cells": [
  {
   "cell_type": "code",
   "execution_count": 5,
   "metadata": {},
   "outputs": [],
   "source": [
    "import numpy as np\n",
    "import pandas as pd\n",
    "import sklearn\n",
    "import matplotlib.pyplot as plt\n",
    "import seaborn as sns\n",
    "\n",
    "from sklearn.model_selection import train_test_split"
   ]
  },
  {
   "cell_type": "code",
   "execution_count": 6,
   "metadata": {},
   "outputs": [],
   "source": [
    "concret_df = pd.read_csv('concrete_data.csv')\n",
    "X = concret_df.loc[:,concret_df.columns != 'csMPa']\n",
    "y = concret_df['csMPa']\n",
    "\n",
    "X.shape,y.shape\n",
    "X_train,X_test,y_train,y_test = train_test_split(X,y,test_size=0.3,random_state=1)"
   ]
  },
  {
   "cell_type": "markdown",
   "metadata": {},
   "source": [
    "## AdaBoosting Regression"
   ]
  },
  {
   "cell_type": "code",
   "execution_count": 7,
   "metadata": {},
   "outputs": [],
   "source": [
    "from sklearn.ensemble import AdaBoostRegressor\n",
    "from sklearn.tree import DecisionTreeRegressor"
   ]
  },
  {
   "cell_type": "code",
   "execution_count": 11,
   "metadata": {},
   "outputs": [
    {
     "data": {
      "text/plain": [
       "AdaBoostRegressor(base_estimator=DecisionTreeRegressor(criterion='mse',\n",
       "                                                       max_depth=4,\n",
       "                                                       max_features=None,\n",
       "                                                       max_leaf_nodes=None,\n",
       "                                                       min_impurity_decrease=0.0,\n",
       "                                                       min_impurity_split=None,\n",
       "                                                       min_samples_leaf=1,\n",
       "                                                       min_samples_split=2,\n",
       "                                                       min_weight_fraction_leaf=0.0,\n",
       "                                                       presort=False,\n",
       "                                                       random_state=None,\n",
       "                                                       splitter='best'),\n",
       "                  learning_rate=1.0, loss='linear', n_estimators=100,\n",
       "                  random_state=None)"
      ]
     },
     "execution_count": 11,
     "metadata": {},
     "output_type": "execute_result"
    }
   ],
   "source": [
    "ada_reg = AdaBoostRegressor(base_estimator=DecisionTreeRegressor(max_depth=4),\n",
    "                           n_estimators=100,\n",
    "                           learning_rate=1.0)\n",
    "ada_reg.fit(X_train,y_train)"
   ]
  },
  {
   "cell_type": "code",
   "execution_count": 12,
   "metadata": {},
   "outputs": [
    {
     "data": {
      "text/plain": [
       "0.8187183950844901"
      ]
     },
     "execution_count": 12,
     "metadata": {},
     "output_type": "execute_result"
    }
   ],
   "source": [
    "ada_reg.score(X_test,y_test)"
   ]
  },
  {
   "cell_type": "code",
   "execution_count": 13,
   "metadata": {},
   "outputs": [
    {
     "data": {
      "text/plain": [
       "array([1.63824002, 1.04292946, 1.34841321, 1.12353051, 1.09967873,\n",
       "       1.02314379, 1.04604791, 1.47934173, 0.97176958, 1.24647785,\n",
       "       1.09803303, 0.87657891, 1.02630044, 0.88115434, 1.40376455,\n",
       "       1.10381424, 1.60697941, 0.95896049, 1.17021009, 0.89588385,\n",
       "       0.88196239, 1.04386108, 0.82948577, 1.08497166, 1.04744382,\n",
       "       0.62847018, 0.85746601, 0.97891264, 0.92932052, 0.97612456,\n",
       "       0.70501467, 0.53286746, 1.2267585 , 0.72574415, 0.80831001,\n",
       "       1.05202142, 0.74489423, 0.56960176, 0.76122159, 1.02987534,\n",
       "       0.08361946, 0.45829078, 0.46405052, 0.35433676, 0.64795903,\n",
       "       0.52891298, 0.30811795, 0.61069653, 0.48113512, 1.01533384,\n",
       "       0.87793772, 1.16552659, 0.77229067, 0.48376061, 0.16092754,\n",
       "       0.51674817, 0.35789654, 0.7000524 , 0.78218311, 0.32689813,\n",
       "       1.10982886, 0.66798258, 0.76588436, 0.88166646, 0.64268062,\n",
       "       1.041887  , 0.53163112, 0.84838073, 0.68824268, 0.79180922,\n",
       "       0.84393799, 1.26535284, 0.55565957, 0.55894321, 0.6429963 ,\n",
       "       0.67768258, 1.26352752, 1.08305194, 0.90142601, 1.17895734,\n",
       "       0.75934474, 0.55310531, 0.43961883, 1.26994784, 1.13831264,\n",
       "       0.88077544, 0.94548117, 0.87231217, 0.91728692, 0.94311566,\n",
       "       0.89302582, 0.68148457, 0.87983423, 0.84825029, 0.60864253,\n",
       "       1.14549099, 0.95151119, 0.73195241, 1.23975472, 0.8094923 ])"
      ]
     },
     "execution_count": 13,
     "metadata": {},
     "output_type": "execute_result"
    }
   ],
   "source": [
    "ada_reg.estimator_weights_"
   ]
  },
  {
   "cell_type": "code",
   "execution_count": 20,
   "metadata": {},
   "outputs": [
    {
     "data": {
      "text/plain": [
       "AdaBoostRegressor(base_estimator=DecisionTreeRegressor(criterion='mse',\n",
       "                                                       max_depth=2,\n",
       "                                                       max_features=None,\n",
       "                                                       max_leaf_nodes=None,\n",
       "                                                       min_impurity_decrease=0.0,\n",
       "                                                       min_impurity_split=None,\n",
       "                                                       min_samples_leaf=1,\n",
       "                                                       min_samples_split=2,\n",
       "                                                       min_weight_fraction_leaf=0.0,\n",
       "                                                       presort=False,\n",
       "                                                       random_state=None,\n",
       "                                                       splitter='best'),\n",
       "                  learning_rate=0.5, loss='linear', n_estimators=200,\n",
       "                  random_state=None)"
      ]
     },
     "execution_count": 20,
     "metadata": {},
     "output_type": "execute_result"
    }
   ],
   "source": [
    "ada_reg = AdaBoostRegressor(base_estimator=DecisionTreeRegressor(max_depth=2),\n",
    "                           n_estimators=200,\n",
    "                           learning_rate=0.5)\n",
    "ada_reg.fit(X_train,y_train)"
   ]
  },
  {
   "cell_type": "code",
   "execution_count": 21,
   "metadata": {},
   "outputs": [
    {
     "data": {
      "text/plain": [
       "0.6782149014842342"
      ]
     },
     "execution_count": 21,
     "metadata": {},
     "output_type": "execute_result"
    }
   ],
   "source": [
    "ada_reg.score(X_test,y_test)"
   ]
  },
  {
   "cell_type": "code",
   "execution_count": null,
   "metadata": {},
   "outputs": [],
   "source": []
  }
 ],
 "metadata": {
  "kernelspec": {
   "display_name": "Python 3",
   "language": "python",
   "name": "python3"
  },
  "language_info": {
   "codemirror_mode": {
    "name": "ipython",
    "version": 3
   },
   "file_extension": ".py",
   "mimetype": "text/x-python",
   "name": "python",
   "nbconvert_exporter": "python",
   "pygments_lexer": "ipython3",
   "version": "3.7.4"
  }
 },
 "nbformat": 4,
 "nbformat_minor": 2
}
