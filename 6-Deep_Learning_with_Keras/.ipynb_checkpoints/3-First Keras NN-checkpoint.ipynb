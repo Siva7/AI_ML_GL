{
 "cells": [
  {
   "cell_type": "code",
   "execution_count": 1,
   "metadata": {},
   "outputs": [],
   "source": [
    "from sklearn.datasets import make_blobs\n",
    "import numpy as np\n",
    "import matplotlib.pyplot as plt\n",
    "%matplotlib inline\n",
    "\n",
    "from sklearn.model_selection import train_test_split"
   ]
  },
  {
   "cell_type": "code",
   "execution_count": 2,
   "metadata": {},
   "outputs": [],
   "source": [
    "X,y = make_blobs(n_samples=1000,centers=2,random_state=1)"
   ]
  },
  {
   "cell_type": "code",
   "execution_count": 3,
   "metadata": {},
   "outputs": [
    {
     "name": "stdout",
     "output_type": "stream",
     "text": [
      "(1000, 2)\n"
     ]
    },
    {
     "data": {
      "text/plain": [
       "array([[-3.05837272,  4.48825769],\n",
       "       [-8.60973869, -3.72714879],\n",
       "       [ 1.37129721,  5.23107449],\n",
       "       ...,\n",
       "       [-1.91854276,  4.59578307],\n",
       "       [-1.79600465,  4.28743568],\n",
       "       [-9.90967641, -4.69510878]])"
      ]
     },
     "execution_count": 3,
     "metadata": {},
     "output_type": "execute_result"
    }
   ],
   "source": [
    "print(X.shape)\n",
    "X"
   ]
  },
  {
   "cell_type": "code",
   "execution_count": 4,
   "metadata": {},
   "outputs": [
    {
     "name": "stdout",
     "output_type": "stream",
     "text": [
      "(1000,)\n"
     ]
    },
    {
     "data": {
      "text/plain": [
       "array([0, 1, 0, 1, 1, 1, 1, 1, 0, 1, 1, 1, 0, 0, 0, 1, 1, 0, 1, 1, 1, 0,\n",
       "       1, 0, 1, 1, 0, 0, 0, 0, 1, 1, 0, 1, 0, 0, 0, 0, 0, 1, 0, 0, 0, 1,\n",
       "       1, 1, 1, 0, 1, 1, 0, 1, 1, 1, 0, 1, 1, 0, 1, 0, 1, 1, 1, 1, 1, 0,\n",
       "       0, 0, 0, 1, 1, 0, 1, 1, 0, 0, 0, 0, 0, 1, 1, 1, 0, 0, 0, 1, 0, 0,\n",
       "       0, 1, 1, 0, 1, 0, 1, 1, 0, 0, 1, 1, 1, 1, 0, 1, 0, 1, 1, 1, 1, 0,\n",
       "       1, 1, 1, 0, 0, 0, 0, 0, 1, 1, 1, 0, 1, 1, 1, 1, 0, 1, 0, 0, 0, 1,\n",
       "       0, 0, 1, 1, 1, 1, 0, 1, 0, 0, 1, 1, 0, 0, 1, 1, 1, 0, 1, 0, 0, 0,\n",
       "       0, 1, 0, 0, 1, 1, 0, 0, 0, 1, 0, 0, 0, 1, 1, 1, 0, 0, 1, 1, 0, 0,\n",
       "       1, 1, 1, 1, 0, 0, 0, 0, 1, 0, 1, 1, 1, 0, 0, 1, 0, 1, 0, 0, 0, 1,\n",
       "       0, 1, 1, 0, 1, 1, 1, 1, 0, 0, 0, 0, 1, 0, 0, 0, 0, 1, 0, 0, 1, 0,\n",
       "       0, 1, 1, 1, 0, 1, 0, 1, 1, 0, 1, 0, 1, 0, 0, 1, 0, 0, 0, 0, 0, 1,\n",
       "       1, 0, 0, 1, 1, 0, 1, 0, 1, 0, 0, 0, 1, 1, 1, 0, 0, 0, 0, 1, 0, 1,\n",
       "       1, 1, 1, 1, 0, 1, 0, 1, 0, 1, 1, 0, 0, 1, 1, 1, 0, 0, 0, 0, 1, 1,\n",
       "       0, 1, 1, 1, 1, 0, 0, 1, 0, 0, 1, 1, 1, 0, 0, 1, 0, 1, 1, 1, 0, 0,\n",
       "       0, 0, 0, 0, 0, 1, 1, 1, 0, 1, 1, 0, 1, 0, 0, 1, 1, 0, 0, 0, 1, 1,\n",
       "       1, 1, 1, 1, 1, 1, 0, 1, 0, 0, 0, 0, 0, 1, 0, 1, 1, 1, 1, 1, 0, 1,\n",
       "       1, 1, 1, 0, 1, 1, 1, 1, 0, 1, 1, 0, 0, 1, 1, 0, 1, 1, 1, 0, 1, 0,\n",
       "       0, 0, 1, 1, 1, 0, 0, 1, 1, 1, 0, 1, 1, 0, 0, 1, 0, 0, 0, 1, 1, 1,\n",
       "       1, 1, 0, 0, 0, 1, 1, 1, 1, 1, 0, 1, 1, 0, 1, 1, 1, 0, 0, 0, 1, 0,\n",
       "       1, 1, 0, 0, 0, 0, 1, 1, 0, 0, 0, 0, 1, 1, 1, 0, 1, 0, 1, 1, 0, 1,\n",
       "       1, 1, 0, 1, 0, 1, 0, 1, 1, 0, 0, 0, 0, 0, 1, 1, 0, 1, 1, 1, 0, 0,\n",
       "       1, 1, 1, 1, 0, 0, 0, 1, 1, 0, 1, 1, 0, 1, 0, 1, 0, 0, 1, 0, 1, 0,\n",
       "       0, 1, 0, 1, 1, 1, 0, 0, 0, 0, 1, 0, 0, 0, 1, 1, 0, 0, 0, 0, 0, 1,\n",
       "       0, 0, 0, 1, 0, 0, 1, 0, 0, 0, 1, 1, 1, 0, 0, 1, 0, 1, 0, 0, 1, 1,\n",
       "       0, 0, 1, 0, 1, 0, 1, 0, 1, 1, 0, 1, 0, 0, 0, 0, 1, 1, 1, 0, 0, 1,\n",
       "       1, 1, 1, 1, 1, 0, 1, 1, 0, 1, 1, 1, 1, 0, 1, 1, 1, 0, 0, 1, 1, 1,\n",
       "       1, 1, 1, 1, 0, 0, 0, 1, 0, 1, 0, 0, 0, 0, 1, 1, 0, 0, 1, 0, 0, 0,\n",
       "       0, 1, 1, 1, 1, 0, 1, 1, 1, 0, 1, 0, 1, 0, 1, 0, 1, 0, 1, 0, 0, 0,\n",
       "       0, 0, 0, 0, 0, 1, 0, 0, 0, 1, 1, 1, 0, 0, 0, 1, 0, 0, 0, 1, 0, 1,\n",
       "       1, 1, 1, 0, 1, 0, 0, 0, 0, 1, 1, 0, 0, 1, 1, 1, 0, 0, 0, 1, 1, 1,\n",
       "       0, 0, 1, 1, 0, 1, 1, 1, 0, 1, 0, 0, 1, 1, 0, 0, 0, 1, 1, 1, 0, 1,\n",
       "       0, 0, 1, 0, 0, 1, 0, 1, 0, 0, 1, 1, 0, 0, 0, 1, 0, 0, 0, 0, 0, 1,\n",
       "       0, 0, 1, 1, 0, 0, 1, 1, 1, 0, 0, 0, 1, 1, 0, 1, 1, 1, 0, 1, 0, 0,\n",
       "       0, 0, 0, 1, 1, 0, 0, 1, 0, 1, 1, 0, 1, 1, 0, 1, 0, 0, 0, 1, 1, 1,\n",
       "       0, 0, 0, 1, 1, 1, 1, 1, 0, 0, 1, 1, 1, 1, 1, 0, 0, 1, 1, 0, 0, 0,\n",
       "       1, 0, 0, 0, 1, 0, 0, 0, 1, 0, 1, 0, 1, 0, 0, 0, 0, 1, 1, 1, 0, 0,\n",
       "       0, 0, 1, 1, 1, 0, 1, 0, 1, 0, 0, 1, 1, 0, 1, 1, 0, 0, 1, 1, 0, 1,\n",
       "       1, 0, 1, 1, 0, 1, 0, 0, 1, 1, 1, 1, 0, 1, 0, 0, 1, 0, 1, 1, 0, 1,\n",
       "       1, 0, 1, 0, 0, 1, 1, 1, 0, 0, 0, 0, 0, 1, 1, 1, 0, 0, 0, 1, 0, 1,\n",
       "       1, 0, 0, 1, 1, 0, 0, 1, 1, 0, 1, 0, 1, 0, 1, 0, 1, 0, 0, 1, 0, 1,\n",
       "       1, 0, 1, 1, 1, 1, 0, 1, 0, 1, 1, 0, 0, 0, 0, 1, 1, 0, 0, 1, 1, 0,\n",
       "       1, 0, 1, 1, 0, 0, 0, 0, 0, 0, 0, 0, 1, 0, 1, 0, 0, 1, 0, 0, 0, 0,\n",
       "       1, 1, 0, 1, 0, 0, 0, 1, 0, 1, 0, 0, 1, 1, 0, 0, 1, 1, 0, 0, 1, 0,\n",
       "       0, 1, 1, 1, 1, 1, 0, 0, 1, 1, 0, 0, 0, 1, 0, 0, 0, 1, 0, 0, 1, 1,\n",
       "       1, 0, 1, 1, 0, 0, 1, 0, 1, 0, 1, 1, 0, 1, 0, 1, 0, 0, 1, 1, 0, 0,\n",
       "       1, 0, 1, 0, 0, 0, 1, 0, 0, 1])"
      ]
     },
     "execution_count": 4,
     "metadata": {},
     "output_type": "execute_result"
    }
   ],
   "source": [
    "print(y.shape)\n",
    "y"
   ]
  },
  {
   "cell_type": "code",
   "execution_count": 5,
   "metadata": {},
   "outputs": [
    {
     "data": {
      "text/plain": [
       "(500,)"
      ]
     },
     "execution_count": 5,
     "metadata": {},
     "output_type": "execute_result"
    }
   ],
   "source": [
    "y[y==0].shape"
   ]
  },
  {
   "cell_type": "code",
   "execution_count": 6,
   "metadata": {},
   "outputs": [
    {
     "data": {
      "text/plain": [
       "(500,)"
      ]
     },
     "execution_count": 6,
     "metadata": {},
     "output_type": "execute_result"
    }
   ],
   "source": [
    "X[y==0,0].shape"
   ]
  },
  {
   "cell_type": "code",
   "execution_count": 7,
   "metadata": {},
   "outputs": [],
   "source": [
    "def plot_data(pl,X,y):\n",
    "    pl.plot(X[y==0,0],X[y==0,1],'ob',alpha=0.5)\n",
    "    pl.plot(X[y==1,0],X[y==1,1],'xr',alpha=0.5)\n",
    "    pl.legend(['0','1'])\n",
    "    return pl"
   ]
  },
  {
   "cell_type": "code",
   "execution_count": 8,
   "metadata": {},
   "outputs": [],
   "source": [
    "def plot_decision_boundary(model, X, y):\n",
    "\n",
    "    amin, bmin = X.min(axis=0) - 0.1\n",
    "    amax, bmax = X.max(axis=0) + 0.1\n",
    "    hticks = np.linspace(amin, amax, 101)\n",
    "    vticks = np.linspace(bmin, bmax, 101)\n",
    "    \n",
    "    aa, bb = np.meshgrid(hticks, vticks)\n",
    "    ab = np.c_[aa.ravel(), bb.ravel()]\n",
    "    \n",
    "    # make prediction with the model and reshape the output so contourf can plot it\n",
    "    c = model.predict(ab)\n",
    "    Z = c.reshape(aa.shape)\n",
    "\n",
    "    plt.figure(figsize=(12, 8))\n",
    "    # plot the contour\n",
    "    plt.contourf(aa, bb, Z, cmap='bwr', alpha=0.2)\n",
    "    # plot the moons of data\n",
    "    plot_data(plt, X, y)\n",
    "\n",
    "    return plt"
   ]
  },
  {
   "cell_type": "code",
   "execution_count": 9,
   "metadata": {},
   "outputs": [
    {
     "data": {
      "text/plain": [
       "<module 'matplotlib.pyplot' from 'D:\\\\IT\\\\Apps\\\\Anaconda\\\\envs\\\\KerasGPU\\\\lib\\\\site-packages\\\\matplotlib\\\\pyplot.py'>"
      ]
     },
     "execution_count": 9,
     "metadata": {},
     "output_type": "execute_result"
    },
    {
     "data": {
      "image/png": "[encoded data removed]",
      "text/plain": [
       "<Figure size 432x288 with 1 Axes>"
      ]
     },
     "metadata": {
      "needs_background": "light"
     },
     "output_type": "display_data"
    }
   ],
   "source": [
    "plot_data(plt,X,y)"
   ]
  },
  {
   "cell_type": "code",
   "execution_count": 10,
   "metadata": {},
   "outputs": [],
   "source": [
    "X_train,X_test,y_train,y_test = train_test_split(X,y,test_size=0.3,random_state=1)"
   ]
  },
  {
   "cell_type": "code",
   "execution_count": 11,
   "metadata": {},
   "outputs": [
    {
     "data": {
      "text/plain": [
       "((700, 2), (300, 2), (700,), (300,))"
      ]
     },
     "execution_count": 11,
     "metadata": {},
     "output_type": "execute_result"
    }
   ],
   "source": [
    "X_train.shape,X_test.shape,y_train.shape,y_test.shape"
   ]
  },
  {
   "cell_type": "markdown",
   "metadata": {},
   "source": [
    "# Import Keras models and Dense Layer"
   ]
  },
  {
   "cell_type": "code",
   "execution_count": 12,
   "metadata": {},
   "outputs": [],
   "source": [
    "from tensorflow.keras.models import Sequential\n",
    "from tensorflow.keras.layers import Dense\n",
    "from tensorflow.keras.optimizers import Adam"
   ]
  },
  {
   "cell_type": "code",
   "execution_count": 13,
   "metadata": {},
   "outputs": [],
   "source": [
    "model = Sequential()"
   ]
  },
  {
   "cell_type": "code",
   "execution_count": 14,
   "metadata": {},
   "outputs": [],
   "source": [
    "model.add(Dense(units=1,activation='sigmoid',input_shape=(2,)))"
   ]
  },
  {
   "cell_type": "code",
   "execution_count": 15,
   "metadata": {},
   "outputs": [],
   "source": [
    "model.compile(optimizer=Adam(lr=0.05),loss='binary_crossentropy',metrics=['accuracy'])"
   ]
  },
  {
   "cell_type": "code",
   "execution_count": 16,
   "metadata": {},
   "outputs": [
    {
     "name": "stdout",
     "output_type": "stream",
     "text": [
      "Train on 700 samples\n",
      "Epoch 1/100\n",
      "700/700 [==============================] - 2s 3ms/sample - loss: 0.3987 - accuracy: 0.8657\n",
      "Epoch 2/100\n",
      "700/700 [==============================] - 0s 226us/sample - loss: 0.0041 - accuracy: 1.0000\n",
      "Epoch 3/100\n",
      "700/700 [==============================] - 0s 157us/sample - loss: 0.0034 - accuracy: 1.0000\n",
      "Epoch 4/100\n",
      "700/700 [==============================] - 0s 105us/sample - loss: 0.0032 - accuracy: 1.0000\n",
      "Epoch 5/100\n",
      "700/700 [==============================] - 0s 123us/sample - loss: 0.0029 - accuracy: 1.0000\n",
      "Epoch 6/100\n",
      "700/700 [==============================] - 0s 111us/sample - loss: 0.0027 - accuracy: 1.0000\n",
      "Epoch 7/100\n",
      "700/700 [==============================] - 0s 112us/sample - loss: 0.0025 - accuracy: 1.0000\n",
      "Epoch 8/100\n",
      "700/700 [==============================] - 0s 115us/sample - loss: 0.0023 - accuracy: 1.0000\n",
      "Epoch 9/100\n",
      "700/700 [==============================] - 0s 112us/sample - loss: 0.0021 - accuracy: 1.0000\n",
      "Epoch 10/100\n",
      "700/700 [==============================] - 0s 117us/sample - loss: 0.0020 - accuracy: 1.0000\n",
      "Epoch 11/100\n",
      "700/700 [==============================] - 0s 120us/sample - loss: 0.0018 - accuracy: 1.0000\n",
      "Epoch 12/100\n",
      "700/700 [==============================] - 0s 123us/sample - loss: 0.0017 - accuracy: 1.0000\n",
      "Epoch 13/100\n",
      "700/700 [==============================] - 0s 122us/sample - loss: 0.0016 - accuracy: 1.0000\n",
      "Epoch 14/100\n",
      "700/700 [==============================] - 0s 115us/sample - loss: 0.0015 - accuracy: 1.0000\n",
      "Epoch 15/100\n",
      "700/700 [==============================] - 0s 139us/sample - loss: 0.0014 - accuracy: 1.0000\n",
      "Epoch 16/100\n",
      "700/700 [==============================] - 0s 121us/sample - loss: 0.0013 - accuracy: 1.0000\n",
      "Epoch 17/100\n",
      "700/700 [==============================] - 0s 127us/sample - loss: 0.0012 - accuracy: 1.0000\n",
      "Epoch 18/100\n",
      "700/700 [==============================] - 0s 109us/sample - loss: 0.0012 - accuracy: 1.0000\n",
      "Epoch 19/100\n",
      "700/700 [==============================] - 0s 116us/sample - loss: 0.0011 - accuracy: 1.0000\n",
      "Epoch 20/100\n",
      "700/700 [==============================] - 0s 120us/sample - loss: 0.0011 - accuracy: 1.0000\n",
      "Epoch 21/100\n",
      "700/700 [==============================] - 0s 121us/sample - loss: 0.0010 - accuracy: 1.0000\n",
      "Epoch 22/100\n",
      "700/700 [==============================] - 0s 127us/sample - loss: 9.5060e-04 - accuracy: 1.0000\n",
      "Epoch 23/100\n",
      "700/700 [==============================] - 0s 117us/sample - loss: 9.0452e-04 - accuracy: 1.0000\n",
      "Epoch 24/100\n",
      "700/700 [==============================] - 0s 117us/sample - loss: 8.6438e-04 - accuracy: 1.0000\n",
      "Epoch 25/100\n",
      "700/700 [==============================] - 0s 117us/sample - loss: 8.2680e-04 - accuracy: 1.0000\n",
      "Epoch 26/100\n",
      "700/700 [==============================] - 0s 109us/sample - loss: 7.8899e-04 - accuracy: 1.0000\n",
      "Epoch 27/100\n",
      "700/700 [==============================] - 0s 117us/sample - loss: 7.5700e-04 - accuracy: 1.0000\n",
      "Epoch 28/100\n",
      "700/700 [==============================] - 0s 107us/sample - loss: 7.2458e-04 - accuracy: 1.0000\n",
      "Epoch 29/100\n",
      "700/700 [==============================] - 0s 113us/sample - loss: 6.9560e-04 - accuracy: 1.0000\n",
      "Epoch 30/100\n",
      "700/700 [==============================] - 0s 116us/sample - loss: 6.6794e-04 - accuracy: 1.0000\n",
      "Epoch 31/100\n",
      "700/700 [==============================] - 0s 122us/sample - loss: 6.4266e-04 - accuracy: 1.0000\n",
      "Epoch 32/100\n",
      "700/700 [==============================] - 0s 111us/sample - loss: 6.1792e-04 - accuracy: 1.0000\n",
      "Epoch 33/100\n",
      "700/700 [==============================] - 0s 120us/sample - loss: 5.9438e-04 - accuracy: 1.0000\n",
      "Epoch 34/100\n",
      "700/700 [==============================] - 0s 117us/sample - loss: 5.7425e-04 - accuracy: 1.0000\n",
      "Epoch 35/100\n",
      "700/700 [==============================] - 0s 118us/sample - loss: 5.5263e-04 - accuracy: 1.0000\n",
      "Epoch 36/100\n",
      "700/700 [==============================] - 0s 117us/sample - loss: 5.3377e-04 - accuracy: 1.0000\n",
      "Epoch 37/100\n",
      "700/700 [==============================] - 0s 116us/sample - loss: 5.1533e-04 - accuracy: 1.0000\n",
      "Epoch 38/100\n",
      "700/700 [==============================] - 0s 117us/sample - loss: 4.9797e-04 - accuracy: 1.0000\n",
      "Epoch 39/100\n",
      "700/700 [==============================] - 0s 130us/sample - loss: 4.8135e-04 - accuracy: 1.0000\n",
      "Epoch 40/100\n",
      "700/700 [==============================] - 0s 124us/sample - loss: 4.6596e-04 - accuracy: 1.0000\n",
      "Epoch 41/100\n",
      "700/700 [==============================] - 0s 115us/sample - loss: 4.5189e-04 - accuracy: 1.0000\n",
      "Epoch 42/100\n",
      "700/700 [==============================] - 0s 117us/sample - loss: 4.3706e-04 - accuracy: 1.0000\n",
      "Epoch 43/100\n",
      "700/700 [==============================] - 0s 120us/sample - loss: 4.2437e-04 - accuracy: 1.0000\n",
      "Epoch 44/100\n",
      "700/700 [==============================] - 0s 105us/sample - loss: 4.1110e-04 - accuracy: 1.0000\n",
      "Epoch 45/100\n",
      "700/700 [==============================] - 0s 121us/sample - loss: 3.9866e-04 - accuracy: 1.0000\n",
      "Epoch 46/100\n",
      "700/700 [==============================] - 0s 127us/sample - loss: 3.8794e-04 - accuracy: 1.0000\n",
      "Epoch 47/100\n",
      "700/700 [==============================] - 0s 130us/sample - loss: 3.7645e-04 - accuracy: 1.0000\n",
      "Epoch 48/100\n",
      "700/700 [==============================] - 0s 121us/sample - loss: 3.6521e-04 - accuracy: 1.0000\n",
      "Epoch 49/100\n",
      "700/700 [==============================] - 0s 127us/sample - loss: 3.5590e-04 - accuracy: 1.0000\n",
      "Epoch 50/100\n",
      "700/700 [==============================] - 0s 137us/sample - loss: 3.4580e-04 - accuracy: 1.0000\n",
      "Epoch 51/100\n",
      "700/700 [==============================] - 0s 129us/sample - loss: 3.3591e-04 - accuracy: 1.0000\n",
      "Epoch 52/100\n",
      "700/700 [==============================] - 0s 136us/sample - loss: 3.2781e-04 - accuracy: 1.0000\n",
      "Epoch 53/100\n",
      "700/700 [==============================] - 0s 139us/sample - loss: 3.1840e-04 - accuracy: 1.0000\n",
      "Epoch 54/100\n",
      "700/700 [==============================] - 0s 123us/sample - loss: 3.1069e-04 - accuracy: 1.0000\n",
      "Epoch 55/100\n",
      "700/700 [==============================] - 0s 121us/sample - loss: 3.0258e-04 - accuracy: 1.0000\n",
      "Epoch 56/100\n",
      "700/700 [==============================] - 0s 114us/sample - loss: 2.9489e-04 - accuracy: 1.0000\n",
      "Epoch 57/100\n",
      "700/700 [==============================] - 0s 113us/sample - loss: 2.8731e-04 - accuracy: 1.0000\n",
      "Epoch 58/100\n",
      "700/700 [==============================] - 0s 116us/sample - loss: 2.8035e-04 - accuracy: 1.0000\n",
      "Epoch 59/100\n",
      "700/700 [==============================] - 0s 117us/sample - loss: 2.7374e-04 - accuracy: 1.0000\n",
      "Epoch 60/100\n",
      "700/700 [==============================] - 0s 120us/sample - loss: 2.6686e-04 - accuracy: 1.0000\n",
      "Epoch 61/100\n",
      "700/700 [==============================] - 0s 123us/sample - loss: 2.6075e-04 - accuracy: 1.0000\n",
      "Epoch 62/100\n",
      "700/700 [==============================] - 0s 133us/sample - loss: 2.5444e-04 - accuracy: 1.0000\n",
      "Epoch 63/100\n",
      "700/700 [==============================] - 0s 118us/sample - loss: 2.4866e-04 - accuracy: 1.0000\n",
      "Epoch 64/100\n",
      "700/700 [==============================] - 0s 121us/sample - loss: 2.4290e-04 - accuracy: 1.0000\n",
      "Epoch 65/100\n",
      "700/700 [==============================] - 0s 120us/sample - loss: 2.3718e-04 - accuracy: 1.0000\n",
      "Epoch 66/100\n",
      "700/700 [==============================] - 0s 115us/sample - loss: 2.3223e-04 - accuracy: 1.0000\n",
      "Epoch 67/100\n",
      "700/700 [==============================] - 0s 114us/sample - loss: 2.2682e-04 - accuracy: 1.0000\n",
      "Epoch 68/100\n",
      "700/700 [==============================] - 0s 103us/sample - loss: 2.2178e-04 - accuracy: 1.0000\n",
      "Epoch 69/100\n",
      "700/700 [==============================] - 0s 105us/sample - loss: 2.1708e-04 - accuracy: 1.0000\n",
      "Epoch 70/100\n",
      "700/700 [==============================] - 0s 114us/sample - loss: 2.1249e-04 - accuracy: 1.0000\n",
      "Epoch 71/100\n",
      "700/700 [==============================] - 0s 113us/sample - loss: 2.0780e-04 - accuracy: 1.0000\n",
      "Epoch 72/100\n",
      "700/700 [==============================] - 0s 111us/sample - loss: 2.0357e-04 - accuracy: 1.0000\n",
      "Epoch 73/100\n",
      "700/700 [==============================] - 0s 116us/sample - loss: 1.9916e-04 - accuracy: 1.0000\n",
      "Epoch 74/100\n",
      "700/700 [==============================] - 0s 116us/sample - loss: 1.9515e-04 - accuracy: 1.0000\n",
      "Epoch 75/100\n",
      "700/700 [==============================] - 0s 122us/sample - loss: 1.9156e-04 - accuracy: 1.0000\n",
      "Epoch 76/100\n"
     ]
    },
    {
     "name": "stdout",
     "output_type": "stream",
     "text": [
      "700/700 [==============================] - 0s 117us/sample - loss: 1.8732e-04 - accuracy: 1.0000\n",
      "Epoch 77/100\n",
      "700/700 [==============================] - 0s 105us/sample - loss: 1.8340e-04 - accuracy: 1.0000\n",
      "Epoch 78/100\n",
      "700/700 [==============================] - 0s 108us/sample - loss: 1.7987e-04 - accuracy: 1.0000\n",
      "Epoch 79/100\n",
      "700/700 [==============================] - 0s 108us/sample - loss: 1.7620e-04 - accuracy: 1.0000\n",
      "Epoch 80/100\n",
      "700/700 [==============================] - 0s 110us/sample - loss: 1.7292e-04 - accuracy: 1.0000\n",
      "Epoch 81/100\n",
      "700/700 [==============================] - 0s 108us/sample - loss: 1.6951e-04 - accuracy: 1.0000\n",
      "Epoch 82/100\n",
      "700/700 [==============================] - 0s 112us/sample - loss: 1.6600e-04 - accuracy: 1.0000\n",
      "Epoch 83/100\n",
      "700/700 [==============================] - 0s 114us/sample - loss: 1.6305e-04 - accuracy: 1.0000\n",
      "Epoch 84/100\n",
      "700/700 [==============================] - 0s 117us/sample - loss: 1.5992e-04 - accuracy: 1.0000\n",
      "Epoch 85/100\n",
      "700/700 [==============================] - 0s 122us/sample - loss: 1.5714e-04 - accuracy: 1.0000\n",
      "Epoch 86/100\n",
      "700/700 [==============================] - 0s 123us/sample - loss: 1.5392e-04 - accuracy: 1.0000\n",
      "Epoch 87/100\n",
      "700/700 [==============================] - 0s 123us/sample - loss: 1.5102e-04 - accuracy: 1.0000\n",
      "Epoch 88/100\n",
      "700/700 [==============================] - 0s 106us/sample - loss: 1.4836e-04 - accuracy: 1.0000\n",
      "Epoch 89/100\n",
      "700/700 [==============================] - 0s 104us/sample - loss: 1.4565e-04 - accuracy: 1.0000\n",
      "Epoch 90/100\n",
      "700/700 [==============================] - 0s 113us/sample - loss: 1.4299e-04 - accuracy: 1.0000\n",
      "Epoch 91/100\n",
      "700/700 [==============================] - 0s 116us/sample - loss: 1.4034e-04 - accuracy: 1.0000\n",
      "Epoch 92/100\n",
      "700/700 [==============================] - 0s 108us/sample - loss: 1.3794e-04 - accuracy: 1.0000\n",
      "Epoch 93/100\n",
      "700/700 [==============================] - 0s 110us/sample - loss: 1.3543e-04 - accuracy: 1.0000\n",
      "Epoch 94/100\n",
      "700/700 [==============================] - 0s 124us/sample - loss: 1.3333e-04 - accuracy: 1.0000\n",
      "Epoch 95/100\n",
      "700/700 [==============================] - 0s 144us/sample - loss: 1.3064e-04 - accuracy: 1.0000\n",
      "Epoch 96/100\n",
      "700/700 [==============================] - 0s 124us/sample - loss: 1.2849e-04 - accuracy: 1.0000\n",
      "Epoch 97/100\n",
      "700/700 [==============================] - 0s 137us/sample - loss: 1.2623e-04 - accuracy: 1.0000\n",
      "Epoch 98/100\n",
      "700/700 [==============================] - 0s 138us/sample - loss: 1.2410e-04 - accuracy: 1.0000\n",
      "Epoch 99/100\n",
      "700/700 [==============================] - 0s 125us/sample - loss: 1.2197e-04 - accuracy: 1.0000\n",
      "Epoch 100/100\n",
      "700/700 [==============================] - 0s 131us/sample - loss: 1.1991e-04 - accuracy: 1.0000\n"
     ]
    },
    {
     "data": {
      "text/plain": [
       "<tensorflow.python.keras.callbacks.History at 0x1db77604eb8>"
      ]
     },
     "execution_count": 16,
     "metadata": {},
     "output_type": "execute_result"
    }
   ],
   "source": [
    "model.fit(X_train,y_train,epochs=100,verbose=1)"
   ]
  },
  {
   "cell_type": "code",
   "execution_count": 17,
   "metadata": {},
   "outputs": [
    {
     "name": "stdout",
     "output_type": "stream",
     "text": [
      "\r",
      "300/1 [========================================================================================================================================================================================================================================================================================================================================================================================================================================================================================================================================================================================================================================================================================================================================================================================================================================================================================================================================================================================================================================================================================================================================================================================================================================================================================================================================================================================================================================================================================================================================================================================================================================================================================================================================================================================================================================================================================================================================================================================================================================================================================================================================================================================================================================================================================================================================================================================================================================================================================================================================================================================================================================================================================================================================================================================================================================================================================================================================================================================================================================================================================================================================================================================================================================================================================================================================================================================================================================================================================================================================================================================================================================================================================================================================================================================================================================================================================================================================================================================================================================================================================================================================================================================================================================================================================================================================================================================================================================================================================================================================================================================================================================================================================================================================================================================================================================================================================================================================================================================================================================================================================================================================================================================================================================================================================================================================================================================================================================================================================================================================================================================================================================================================================================================================================================================================================================================================================================================================================================================================================================================================================================================================================================================================================================================================================================================================================================================================================================================================================================================================================================================================================================================================================================================================================================================================================================================================================================================================================================================================================================================================================================================================================================================================================================================================================================================================================================================================================================================================================================================================================================================================================================================================================================================================================================================================================================================================================================================================================================================================================================================================================================================================================================================================================================================================================================================================================================================================================================================================================================================================================================================================================================================================================================================================================================================================================================================================================================================================================================================================================================================================================================================================================================================================================================================================================================================================================================] - 0s 2ms/sample - loss: 0.0013 - accuracy: 1.0000\n"
     ]
    }
   ],
   "source": [
    "eval_result = model.evaluate(X_test, y_test)"
   ]
  },
  {
   "cell_type": "code",
   "execution_count": 18,
   "metadata": {},
   "outputs": [
    {
     "data": {
      "image/png": "[encoded data removed]",
      "text/plain": [
       "<Figure size 864x576 with 1 Axes>"
      ]
     },
     "metadata": {
      "needs_background": "light"
     },
     "output_type": "display_data"
    }
   ],
   "source": [
    "plot_decision_boundary(model, X, y).show()"
   ]
  }
 ],
 "metadata": {
  "kernelspec": {
   "display_name": "Python 3",
   "language": "python",
   "name": "python3"
  },
  "language_info": {
   "codemirror_mode": {
    "name": "ipython",
    "version": 3
   },
   "file_extension": ".py",
   "mimetype": "text/x-python",
   "name": "python",
   "nbconvert_exporter": "python",
   "pygments_lexer": "ipython3",
   "version": "3.6.9"
  }
 },
 "nbformat": 4,
 "nbformat_minor": 2
}
